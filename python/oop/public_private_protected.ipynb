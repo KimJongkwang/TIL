{
 "cells": [
  {
   "cell_type": "markdown",
   "metadata": {},
   "source": [
    "## public, private, protected"
   ]
  },
  {
   "cell_type": "code",
   "execution_count": 112,
   "metadata": {},
   "outputs": [
    {
     "name": "stdout",
     "output_type": "stream",
     "text": [
      "현재 JK를(을) 포함하여 총 1명의 사람이 있습니다.\n",
      "현재 Tim를(을) 포함하여 총 2명의 사람이 있습니다.\n"
     ]
    }
   ],
   "source": [
    "class People:\n",
    "    total_population = 0\n",
    "\n",
    "    def __init__(self, name, age):\n",
    "        self.name = name\n",
    "        self.age = age\n",
    "        People.total_population += 1\n",
    "\n",
    "    def __str__(self):\n",
    "        return f\"현재 {self.name}를(을) 포함하여 총 {People.total_population}명의 사람이 있습니다.\"\n",
    "\n",
    "JK = People(\"JK\", 18)\n",
    "print(JK)\n",
    "Tim = People(\"Tim\", 20)\n",
    "print(Tim)"
   ]
  },
  {
   "cell_type": "code",
   "execution_count": 113,
   "metadata": {},
   "outputs": [
    {
     "data": {
      "text/plain": [
       "2"
      ]
     },
     "execution_count": 113,
     "metadata": {},
     "output_type": "execute_result"
    }
   ],
   "source": [
    "JK.total_population"
   ]
  },
  {
   "cell_type": "markdown",
   "metadata": {},
   "source": [
    "위의 예제에서 보다시피 총 인구수는 People이라는 클래스로 사람 하나하나의 인스턴스를 찍을 때마다 증가하도록 설계가 되어있다.\n",
    "\n",
    "먼저 선언이 되어있더라도, 증가가 된 총 인구수 total_population은 후에 생성된 인스턴스에 영향을 받는다.\n",
    "\n",
    "그런데, 임의적으로 total_population에 대해 조정을 한다면 어떻게 될까.\n"
   ]
  },
  {
   "cell_type": "code",
   "execution_count": 114,
   "metadata": {},
   "outputs": [
    {
     "data": {
      "text/plain": [
       "(-99, -99, -99)"
      ]
     },
     "execution_count": 114,
     "metadata": {},
     "output_type": "execute_result"
    }
   ],
   "source": [
    "People.total_population = -99\n",
    "People.total_population, JK.total_population, Tim.total_population"
   ]
  },
  {
   "cell_type": "markdown",
   "metadata": {},
   "source": [
    "People 클래스에서 선언을 해버렸기 때문에, People클래스의 인스턴스인 JK, Tim의 총 인구수 또한 영향을 받게된다.\n",
    "\n",
    "이러한 상태로 선언이 되는 것이 객체지향 프로그래밍에서의 public 문법이다. \n",
    "\n",
    "또한 이와 반대로 클래스 안에서 선언된 속성에 대해 외부에서 접근하는 것을 방지하기 위한 문법이 private이다.\n",
    "\n",
    "이외에도 자바에서는 protected 라는 개념이 있으나, 파이썬에서의 타이핑처럼 에러를 발생시키는 제약사항은 아니다."
   ]
  },
  {
   "cell_type": "code",
   "execution_count": 128,
   "metadata": {},
   "outputs": [
    {
     "name": "stdout",
     "output_type": "stream",
     "text": [
      "현재 JK를(을) 포함하여 총 1명의 사람이 있습니다.\n",
      "현재 Tim를(을) 포함하여 총 2명의 사람이 있습니다.\n"
     ]
    }
   ],
   "source": [
    "class People:\n",
    "    __total_population = 0\n",
    "\n",
    "    def __init__(self, name, age):\n",
    "        self.name = name\n",
    "        self.age = age\n",
    "        People.__total_population += 1\n",
    "    \n",
    "    def __str__(self):\n",
    "        return f\"현재 {self.name}를(을) 포함하여 총 {People.__total_population}명의 사람이 있습니다.\"\n",
    "\n",
    "JK = People(\"JK\", 18)\n",
    "print(JK)\n",
    "Tim = People(\"Tim\", 20)\n",
    "print(Tim)\n"
   ]
  },
  {
   "cell_type": "code",
   "execution_count": 129,
   "metadata": {},
   "outputs": [
    {
     "ename": "AttributeError",
     "evalue": "type object 'People' has no attribute '__total_population'",
     "output_type": "error",
     "traceback": [
      "\u001b[1;31m---------------------------------------------------------------------------\u001b[0m",
      "\u001b[1;31mAttributeError\u001b[0m                            Traceback (most recent call last)",
      "\u001b[1;32m<ipython-input-129-76fa3446e1bb>\u001b[0m in \u001b[0;36m<module>\u001b[1;34m\u001b[0m\n\u001b[1;32m----> 1\u001b[1;33m \u001b[0mPeople\u001b[0m\u001b[1;33m.\u001b[0m\u001b[0m__total_population\u001b[0m\u001b[1;33m\u001b[0m\u001b[1;33m\u001b[0m\u001b[0m\n\u001b[0m\u001b[0;32m      2\u001b[0m \u001b[0mprint\u001b[0m\u001b[1;33m(\u001b[0m\u001b[0mJK\u001b[0m\u001b[1;33m)\u001b[0m\u001b[1;33m\u001b[0m\u001b[1;33m\u001b[0m\u001b[0m\n\u001b[0;32m      3\u001b[0m \u001b[0mprint\u001b[0m\u001b[1;33m(\u001b[0m\u001b[0mTim\u001b[0m\u001b[1;33m)\u001b[0m\u001b[1;33m\u001b[0m\u001b[1;33m\u001b[0m\u001b[0m\n",
      "\u001b[1;31mAttributeError\u001b[0m: type object 'People' has no attribute '__total_population'"
     ]
    }
   ],
   "source": [
    "People.__total_population\n",
    "print(JK)\n",
    "print(Tim)"
   ]
  },
  {
   "cell_type": "code",
   "execution_count": 126,
   "metadata": {},
   "outputs": [
    {
     "data": {
      "text/plain": [
       "-99"
      ]
     },
     "execution_count": 126,
     "metadata": {},
     "output_type": "execute_result"
    }
   ],
   "source": []
  }
 ],
 "metadata": {
  "interpreter": {
   "hash": "104d9cccc8e42ca21e45c87cc8630068703fb2fd9a73f8a95f7377d55769478f"
  },
  "kernelspec": {
   "display_name": "Python 3.7.10 ('ecobrainjk')",
   "language": "python",
   "name": "python3"
  },
  "language_info": {
   "codemirror_mode": {
    "name": "ipython",
    "version": 3
   },
   "file_extension": ".py",
   "mimetype": "text/x-python",
   "name": "python",
   "nbconvert_exporter": "python",
   "pygments_lexer": "ipython3",
   "version": "3.7.10"
  },
  "orig_nbformat": 4
 },
 "nbformat": 4,
 "nbformat_minor": 2
}
