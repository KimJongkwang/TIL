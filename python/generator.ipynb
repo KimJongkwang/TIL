{
 "cells": [
  {
   "cell_type": "markdown",
   "metadata": {},
   "source": [
    "## generator\n",
    "- `generator`는 `iterator`를 만드는 함수라고 이해할 수 있습니다.\n",
    "- 기본적인 구조는 함수와 같지만, `return` 대신 `yield` 구문을 통해 데이터를 반환하고 함수를 순회하게 됩니다.\n",
    "- `iterator`와 마찬가지로 `__iter__`과 `__next__`를 호출시키기 떄문에 `next()` 함수로도 동작할 수 있습니다."
   ]
  },
  {
   "cell_type": "markdown",
   "metadata": {},
   "source": [
    "아래와 같이 함수처럼 생성하여 yield로 순회하며 반환을 합니다.\n",
    "\n",
    "여기에서 generator 함수는 실행되면서 yield를 만났을 때 함수는 종료되지 않고 로컬 메모리에 유지된 상태로 정지하고, next()에 반환값을 전달합니다."
   ]
  },
  {
   "cell_type": "code",
   "execution_count": 1,
   "metadata": {},
   "outputs": [],
   "source": [
    "def generator(_list):\n",
    "    i = 0\n",
    "    while i < len(_list):\n",
    "        yield _list[i]\n",
    "        i += 1\n",
    "        if i == len(_list):\n",
    "            print(\"end of generator\")\n",
    "a = generator([1, 2, 3, 4, 5])"
   ]
  },
  {
   "cell_type": "markdown",
   "metadata": {},
   "source": [
    "아래와 같이 5개의 원소를 가진 리스트가 generator를 통해 하나씩 순회되며, 마지막 원소를 반환한 이후에 다시 한번 next를 실행했을 때 함수에서 정의한대로 \"end of generator\"를 출력하고 StopIteration 에러를 발생시킵니다."
   ]
  },
  {
   "cell_type": "code",
   "execution_count": 2,
   "metadata": {},
   "outputs": [
    {
     "name": "stdout",
     "output_type": "stream",
     "text": [
      "1 2 3 4 5\n",
      "end of generator\n"
     ]
    },
    {
     "ename": "StopIteration",
     "evalue": "",
     "output_type": "error",
     "traceback": [
      "\u001b[1;31m---------------------------------------------------------------------------\u001b[0m",
      "\u001b[1;31mStopIteration\u001b[0m                             Traceback (most recent call last)",
      "\u001b[1;32m<ipython-input-2-a5a6a982eabb>\u001b[0m in \u001b[0;36m<module>\u001b[1;34m\u001b[0m\n\u001b[0;32m      1\u001b[0m \u001b[0mprint\u001b[0m\u001b[1;33m(\u001b[0m\u001b[0mnext\u001b[0m\u001b[1;33m(\u001b[0m\u001b[0ma\u001b[0m\u001b[1;33m)\u001b[0m\u001b[1;33m,\u001b[0m \u001b[0mnext\u001b[0m\u001b[1;33m(\u001b[0m\u001b[0ma\u001b[0m\u001b[1;33m)\u001b[0m\u001b[1;33m,\u001b[0m \u001b[0mnext\u001b[0m\u001b[1;33m(\u001b[0m\u001b[0ma\u001b[0m\u001b[1;33m)\u001b[0m \u001b[1;33m,\u001b[0m\u001b[0mnext\u001b[0m\u001b[1;33m(\u001b[0m\u001b[0ma\u001b[0m\u001b[1;33m)\u001b[0m \u001b[1;33m,\u001b[0m\u001b[0mnext\u001b[0m\u001b[1;33m(\u001b[0m\u001b[0ma\u001b[0m\u001b[1;33m)\u001b[0m\u001b[1;33m)\u001b[0m\u001b[1;33m\u001b[0m\u001b[1;33m\u001b[0m\u001b[0m\n\u001b[1;32m----> 2\u001b[1;33m \u001b[0mprint\u001b[0m\u001b[1;33m(\u001b[0m\u001b[0mnext\u001b[0m\u001b[1;33m(\u001b[0m\u001b[0ma\u001b[0m\u001b[1;33m)\u001b[0m\u001b[1;33m)\u001b[0m\u001b[1;33m\u001b[0m\u001b[1;33m\u001b[0m\u001b[0m\n\u001b[0m",
      "\u001b[1;31mStopIteration\u001b[0m: "
     ]
    }
   ],
   "source": [
    "print(next(a), next(a), next(a) ,next(a) ,next(a))\n",
    "print(next(a))"
   ]
  },
  {
   "cell_type": "markdown",
   "metadata": {},
   "source": [
    "### generator expression\n",
    "\n",
    "`generator`를 조금 더 쉽게 사용할 수 있도록 `generator expression`을 지원합니다.\n",
    "\n",
    "`generator expression(genexps)`은 `list comprehension`처럼 python에서 제공하는 comprehension 입니다.\n",
    "\n",
    "`list comprehension`을 생성할 때와 같은 구문으로 사용하나 [] 대신 ()를 사용하며 생성합니다."
   ]
  },
  {
   "cell_type": "code",
   "execution_count": 3,
   "metadata": {},
   "outputs": [],
   "source": [
    "_list = [1, 2, 3, 4, 5]\n",
    "lc = [i for i in _list]\n",
    "genexps = (i for i in _list)"
   ]
  },
  {
   "cell_type": "markdown",
   "metadata": {},
   "source": [
    "아래에서 보다시피 lc는 list를 반환하고, genexps는 generator를 반환합니다.\n",
    "\n",
    "위와 마찬가지로 `next()`로 반환하고 반환할 원소가 없다면 `StopIteration` 에러를 일으킵니다."
   ]
  },
  {
   "cell_type": "code",
   "execution_count": 4,
   "metadata": {},
   "outputs": [
    {
     "name": "stdout",
     "output_type": "stream",
     "text": [
      "[1, 2, 3, 4, 5] <generator object <genexpr> at 0x0000023A3272B948>\n",
      "1 2 3 4 5\n"
     ]
    },
    {
     "ename": "StopIteration",
     "evalue": "",
     "output_type": "error",
     "traceback": [
      "\u001b[1;31m---------------------------------------------------------------------------\u001b[0m",
      "\u001b[1;31mStopIteration\u001b[0m                             Traceback (most recent call last)",
      "\u001b[1;32m<ipython-input-4-4407dbcdb181>\u001b[0m in \u001b[0;36m<module>\u001b[1;34m\u001b[0m\n\u001b[0;32m      1\u001b[0m \u001b[0mprint\u001b[0m\u001b[1;33m(\u001b[0m\u001b[0mlc\u001b[0m\u001b[1;33m,\u001b[0m \u001b[0mgenexps\u001b[0m\u001b[1;33m)\u001b[0m\u001b[1;33m\u001b[0m\u001b[1;33m\u001b[0m\u001b[0m\n\u001b[0;32m      2\u001b[0m \u001b[0mprint\u001b[0m\u001b[1;33m(\u001b[0m\u001b[0mnext\u001b[0m\u001b[1;33m(\u001b[0m\u001b[0mgenexps\u001b[0m\u001b[1;33m)\u001b[0m\u001b[1;33m,\u001b[0m \u001b[0mnext\u001b[0m\u001b[1;33m(\u001b[0m\u001b[0mgenexps\u001b[0m\u001b[1;33m)\u001b[0m\u001b[1;33m,\u001b[0m \u001b[0mnext\u001b[0m\u001b[1;33m(\u001b[0m\u001b[0mgenexps\u001b[0m\u001b[1;33m)\u001b[0m\u001b[1;33m,\u001b[0m \u001b[0mnext\u001b[0m\u001b[1;33m(\u001b[0m\u001b[0mgenexps\u001b[0m\u001b[1;33m)\u001b[0m\u001b[1;33m,\u001b[0m \u001b[0mnext\u001b[0m\u001b[1;33m(\u001b[0m\u001b[0mgenexps\u001b[0m\u001b[1;33m)\u001b[0m\u001b[1;33m)\u001b[0m\u001b[1;33m\u001b[0m\u001b[1;33m\u001b[0m\u001b[0m\n\u001b[1;32m----> 3\u001b[1;33m \u001b[0mprint\u001b[0m\u001b[1;33m(\u001b[0m\u001b[0mnext\u001b[0m\u001b[1;33m(\u001b[0m\u001b[0mgenexps\u001b[0m\u001b[1;33m)\u001b[0m\u001b[1;33m)\u001b[0m\u001b[1;33m\u001b[0m\u001b[1;33m\u001b[0m\u001b[0m\n\u001b[0m",
      "\u001b[1;31mStopIteration\u001b[0m: "
     ]
    }
   ],
   "source": [
    "print(lc, genexps)\n",
    "print(next(genexps), next(genexps), next(genexps), next(genexps), next(genexps))\n",
    "print(next(genexps))"
   ]
  },
  {
   "cell_type": "markdown",
   "metadata": {},
   "source": [
    "### generator의 이점\n",
    "\n",
    "#### 메모리 효율\n",
    "List, Set, Dict 등과 같은 객체는 모든 값을 메모리에 담고 있어 객체에 담는 원소의 크기가 커질 수록 메모리 효율에는 좋지 않습니다. \n",
    "\n",
    "`generator`는 yield를 만났을 때, 필요한 값을 받아 사용하기에 모든 값을 메모리에서 저장하지 않아 메모리 사용에 이점이 있습니다.\n",
    "\n",
    "아래의 예시에서 보다시피 List를 사용했을 때 값이 증가할 경우 메모리 사용량도 증가하지만, `generator`는 값이 증가하여도 메모리의 사용량은 변화가 없는 것을 볼 수 있습니다."
   ]
  },
  {
   "cell_type": "code",
   "execution_count": 5,
   "metadata": {},
   "outputs": [
    {
     "name": "stdout",
     "output_type": "stream",
     "text": [
      "Memory of list : 9024 87624\n",
      "Generator of list : 120 120\n"
     ]
    }
   ],
   "source": [
    "import sys\n",
    "list_1000_mem = sys.getsizeof([i for i in range(1, 1000)])\n",
    "list_10000_mem = sys.getsizeof([i for i in range(1, 10000)])\n",
    "gen_1000_mem = sys.getsizeof((i for i in range(1, 1000)))\n",
    "gen_10000_mem = sys.getsizeof((i for i in range(1, 10000)))\n",
    "print(\"Memory of list :\", list_1000_mem, list_10000_mem)\n",
    "print(\"Generator of list :\", gen_1000_mem, gen_10000_mem)"
   ]
  },
  {
   "cell_type": "markdown",
   "metadata": {},
   "source": [
    "#### lazy evaluation\n",
    "\n",
    "`iterable`한 객체에서 반환값을 필요할 때 꺼내쓰는 개념이라 생각됩니다.\n",
    "\n",
    "`generator`는 yield 이후 상태를 유지하고 있으므로 모든 값을 계산하기에는 많은 시간이 소요될 때, 반환값을 원하는 시점에 사용할 수 있습니다. 또, while True가 무한반복 할 때도 마찬가지로 원하는 시점에 계산하여 반환값을 꺼내 사용할 수 있습니다.\n",
    "\n",
    "lazy evaluation를 알려주시는 많은 분 들께서 예시를 라면가게를 두곤 합니다. 아래와 같이 두가지 예로 들어보겠습니다."
   ]
  },
  {
   "cell_type": "code",
   "execution_count": 131,
   "metadata": {},
   "outputs": [
    {
     "name": "stdout",
     "output_type": "stream",
     "text": [
      "1명 오셨습니다.\n",
      "3명 오셨습니다.\n",
      "2명 오셨습니다.\n",
      "2명 오셨습니다.\n",
      "3명 오셨습니다.\n",
      "라면 1 그릇 나왔습니다.\n",
      "라면 3 그릇 나왔습니다.\n",
      "라면 2 그릇 나왔습니다.\n",
      "라면 2 그릇 나왔습니다.\n",
      "라면 3 그릇 나왔습니다.\n",
      "-----------------------------------------------------\n",
      "1명 오셨습니다.\n",
      "라면 1 그릇 나왔습니다.\n",
      "3명 오셨습니다.\n",
      "라면 3 그릇 나왔습니다.\n",
      "2명 오셨습니다.\n",
      "라면 2 그릇 나왔습니다.\n",
      "2명 오셨습니다.\n",
      "라면 2 그릇 나왔습니다.\n",
      "3명 오셨습니다.\n",
      "라면 3 그릇 나왔습니다.\n"
     ]
    }
   ],
   "source": [
    "# 점심시간 차례로 손님이 들어오는 것을 가정\n",
    "손님들 = [1, 3, 2, 2, 3]\n",
    "\n",
    "def 서빙(멘트들):\n",
    "    for 멘트 in 멘트들:\n",
    "        print(멘트)\n",
    "\n",
    "def 주문(num):\n",
    "    import time\n",
    "    time.sleep(0.1)\n",
    "    print(f\"{num}명 오셨습니다.\")\n",
    "    return f\"라면 {num} 그릇 나왔습니다.\"\n",
    "\n",
    "한번에_주는_라면가게 = [주문(손님수) for 손님수 in 손님들]\n",
    "서빙(한번에_주는_라면가게)\n",
    "print(\"-----------------------------------------------------\")\n",
    "그때마다_만드는_라면가게 = (주문(손님수) for 손님수 in 손님들)\n",
    "서빙(그때마다_만드는_라면가게)"
   ]
  },
  {
   "cell_type": "markdown",
   "metadata": {},
   "source": [
    "이해를 위해 극단적으로 예시를 들었지만, `Lazy evaluation`은 위와 같이 손님들이 모두 오고난 이후 한번에 라면을 제공하는 것과 아래와 같이 손님이 올때마다 라면을 제공하는 것에 대한 차이라고 볼 수 있습니다."
   ]
  },
  {
   "cell_type": "code",
   "execution_count": null,
   "metadata": {},
   "outputs": [],
   "source": []
  }
 ],
 "metadata": {
  "interpreter": {
   "hash": "2f54893dfe29031941d4e4efbe22ab9f1cf7a98c658d6cb739a3c976ef21cf45"
  },
  "kernelspec": {
   "display_name": "Python 3.7.9 64-bit ('jk': conda)",
   "name": "python3"
  },
  "language_info": {
   "codemirror_mode": {
    "name": "ipython",
    "version": 3
   },
   "file_extension": ".py",
   "mimetype": "text/x-python",
   "name": "python",
   "nbconvert_exporter": "python",
   "pygments_lexer": "ipython3",
   "version": "3.7.10"
  },
  "orig_nbformat": 4
 },
 "nbformat": 4,
 "nbformat_minor": 2
}
