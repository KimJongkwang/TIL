{
 "cells": [
  {
   "cell_type": "markdown",
   "metadata": {},
   "source": [
    "### generator\n",
    "- 일반적으로 iterator의 개념적 정의는 \"순회\"라고 번역되듯이 iterable한 객체, 즉 **반복할 수 있는 객체를 반환하는 객체**를 뜻 합니다.\n",
    "- iterator에 만족하려면 `__iter__`메소드와 `__next__`메소드가 구현되어 있어야 합니다.\n",
    "- iter()\n",
    "    - 순회할 수 있는 객체에서 `__iter__`메소드를 호출하여 iterator를 반환합니다.\n",
    "- next()\n",
    "    - iterator에서 `__next__`메소드를 호출하여 iterator의 원소를 차례로 반환합니다.\n",
    "    - next()를 통해 모든 원소를 반환한 상태가 되면, `StopIteration` 오류를 발생시킵니다."
   ]
  },
  {
   "cell_type": "code",
   "execution_count": null,
   "metadata": {},
   "outputs": [],
   "source": [
    "#update!\n"
   ]
  }
 ],
 "metadata": {
  "language_info": {
   "name": "python"
  },
  "orig_nbformat": 4
 },
 "nbformat": 4,
 "nbformat_minor": 2
}
