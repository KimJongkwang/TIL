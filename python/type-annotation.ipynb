{
 "cells": [
  {
   "cell_type": "markdown",
   "source": [
    "### 타입 힌트(type annotation)\r\n",
    "\r\n",
    "`Java`, `C` 등의 정적 프로그래밍 언어는 항상 변수를 선언할 때, 타입도 함께 선언해줘야 합니다.\r\n",
    "\r\n",
    "이와 달리 `Python`은 타입을 선언하지 않고 언제든지 타입을 변경할 수 있는 동적 프로그래밍 언어입니다.\r\n",
    "\r\n",
    "하지만 코드가 길어지고, 처리하는 데이터가 많아질수록 함수의 파라미터, 리턴값에 대한 타입 확인하기 어려워지는데 이에 대한 도움을 주고자 타입 힌트를 사용합니다.\r\n",
    "\r\n",
    "```python\r\n",
    "def func1(n):\r\n",
    "    # type_hint: (int) -> int\r\n",
    "    return n ** n\r\n",
    "```"
   ],
   "metadata": {}
  },
  {
   "cell_type": "markdown",
   "source": [
    "python3.5에서부터는 Type Annotation을 제공합니다.\r\n",
    "\r\n",
    "또한, `typing` 내장 모듈을 활용하면 list, tuple, dict 등의 자료구조 내에 데이터에 대해서도 타입 힌트를 명시합니다. \r\n",
    "\r\n",
    "하지만, 단순히 힌트를 제시하는 것이므로 타입 힌트에 어긋나더라도 어떠한 에러는 발생하지 않는다."
   ],
   "metadata": {}
  },
  {
   "cell_type": "code",
   "execution_count": 14,
   "source": [
    "def func1(n: int) -> int:\r\n",
    "    return n ** 2\r\n",
    "\r\n",
    "n: int = 10\r\n",
    "func1(n)"
   ],
   "outputs": [
    {
     "output_type": "execute_result",
     "data": {
      "text/plain": [
       "100"
      ]
     },
     "metadata": {},
     "execution_count": 14
    }
   ],
   "metadata": {}
  },
  {
   "cell_type": "code",
   "execution_count": 16,
   "source": [
    "import typing\r\n",
    "arr: typing.List[int] = [1, 2, 3]\r\n",
    "_dict: typing.Dict[str, str] = {'a':'apple', 'b':'banana'}\r\n",
    "arr.append('apple')\r\n",
    "arr"
   ],
   "outputs": [
    {
     "output_type": "execute_result",
     "data": {
      "text/plain": [
       "[1, 2, 3, 'apple']"
      ]
     },
     "metadata": {},
     "execution_count": 16
    }
   ],
   "metadata": {}
  },
  {
   "cell_type": "markdown",
   "source": [
    "### `mypy`\r\n",
    "\r\n",
    "타입 힌팅을 통해 타입을 체크하고 문제시 에러를 발생시키기 위해 `mypy` 모듈을 사용하면 됩니다. \r\n",
    "\r\n",
    "pip를 통해 간단하게 설치할 수 있습니다."
   ],
   "metadata": {}
  },
  {
   "cell_type": "markdown",
   "source": [
    "```SHELL\r\n",
    "$ !pip install mypy\r\n",
    "$ mypy test.py\r\n",
    "test.py:3: error: Argument 1 to \"append\" of \"list\" has incompatible type \"str\"; expected \"int\"\r\n",
    "Found 1 error in 1 file (checked 1 source file)\r\n",
    "```"
   ],
   "metadata": {}
  },
  {
   "cell_type": "code",
   "execution_count": null,
   "source": [],
   "outputs": [],
   "metadata": {}
  }
 ],
 "metadata": {
  "orig_nbformat": 4,
  "language_info": {
   "name": "python",
   "version": "3.7.10",
   "mimetype": "text/x-python",
   "codemirror_mode": {
    "name": "ipython",
    "version": 3
   },
   "pygments_lexer": "ipython3",
   "nbconvert_exporter": "python",
   "file_extension": ".py"
  },
  "kernelspec": {
   "name": "python3",
   "display_name": "Python 3.7.10 64-bit ('jk': conda)"
  },
  "interpreter": {
   "hash": "2f54893dfe29031941d4e4efbe22ab9f1cf7a98c658d6cb739a3c976ef21cf45"
  }
 },
 "nbformat": 4,
 "nbformat_minor": 2
}