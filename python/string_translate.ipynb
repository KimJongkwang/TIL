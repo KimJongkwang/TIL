{
 "cells": [
  {
   "cell_type": "markdown",
   "metadata": {},
   "source": [
    "### str.translate()\n",
    "\n",
    "여러 문자에 대해 replace를 적용할 시 대체가능한 메서드"
   ]
  },
  {
   "cell_type": "code",
   "execution_count": 1,
   "metadata": {},
   "outputs": [
    {
     "data": {
      "text/plain": [
       "'1,2,3,1,4'"
      ]
     },
     "execution_count": 1,
     "metadata": {},
     "output_type": "execute_result"
    }
   ],
   "source": [
    "string = \"[1, 2, 3, 1, 4]\"\n",
    "\n",
    "string.replace(\"[\", \"\").replace(\"]\", \"\").replace(\" \", \"\")"
   ]
  },
  {
   "cell_type": "code",
   "execution_count": 4,
   "metadata": {},
   "outputs": [
    {
     "data": {
      "text/plain": [
       "'1,2,3,1,4'"
      ]
     },
     "execution_count": 4,
     "metadata": {},
     "output_type": "execute_result"
    }
   ],
   "source": [
    "trans = str.maketrans({\"[\": \"\", \"]\": \"\", \" \": \"\"})\n",
    "string.translate(trans)"
   ]
  },
  {
   "cell_type": "markdown",
   "metadata": {},
   "source": [
    "라인수는 많아졌지만, 가시성이 좋아졌다.\n",
    "\n",
    "위의 예시에서는 3가지 문자에 대한 변경이지만, 더 많아진다면 훨씬 가시성이 좋을 듯하다."
   ]
  },
  {
   "cell_type": "code",
   "execution_count": null,
   "metadata": {},
   "outputs": [],
   "source": []
  }
 ],
 "metadata": {
  "interpreter": {
   "hash": "104d9cccc8e42ca21e45c87cc8630068703fb2fd9a73f8a95f7377d55769478f"
  },
  "kernelspec": {
   "display_name": "Python 3.7.10 64-bit ('ecobrainjk': conda)",
   "language": "python",
   "name": "python3"
  },
  "language_info": {
   "codemirror_mode": {
    "name": "ipython",
    "version": 3
   },
   "file_extension": ".py",
   "mimetype": "text/x-python",
   "name": "python",
   "nbconvert_exporter": "python",
   "pygments_lexer": "ipython3",
   "version": "3.7.10"
  },
  "orig_nbformat": 4
 },
 "nbformat": 4,
 "nbformat_minor": 2
}
