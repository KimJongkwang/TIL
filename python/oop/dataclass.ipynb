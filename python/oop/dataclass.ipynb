{
 "cells": [
  {
   "cell_type": "markdown",
   "metadata": {},
   "source": [
    "# Python Dataclass\n",
    "\n",
    "<!-- 파이썬에서는 동적타이핑언어로 데이터 타입에 대한 선언이 없어도 충분히 사용이 가능하다. 하지만 프로그램이 확장되고 데이터가 많아질 수록 타입에 대한 정의가 없다면 가독성이 떨어지고 개발자간 의사소통이 어려워진다. 결국 다수의 버그를 발생시키는 상황을 초래할 수 있다. -->\n",
    "\n",
    "> Dataclass에 정말 상세하고 쉽게 설명해주신 [달레](https://www.daleseo.com/python-dataclasses/)님의 블로그를 참고하여 코드를 각색하였습니다."
   ]
  },
  {
   "cell_type": "markdown",
   "metadata": {},
   "source": [
    "## Dataclass 이전의 데이터 정의"
   ]
  },
  {
   "cell_type": "code",
   "execution_count": 5,
   "metadata": {},
   "outputs": [
    {
     "data": {
      "text/plain": [
       "<__main__.Car at 0x23cbce45088>"
      ]
     },
     "execution_count": 5,
     "metadata": {},
     "output_type": "execute_result"
    }
   ],
   "source": [
    "from datetime import date\n",
    "\n",
    "class Car:\n",
    "    def __init__(\n",
    "        self, id: int, model: str, create_date: date\n",
    "    ) -> None:\n",
    "        self.id = id\n",
    "        self.model = model\n",
    "        self.create_date = create_date\n",
    "\n",
    "k5 = Car(id=1, model=\"K5\", create_date=date(2022, 2, 17))\n",
    "k5"
   ]
  },
  {
   "cell_type": "markdown",
   "metadata": {},
   "source": [
    "dataclass 이전의 데이터를 정의하기 위한 클래스는 `__init__()` 메서드로 인스턴스 변수를 생성시키는데, `__init__()` 메서드에 정의를 하는 것에서 입력, 정의 등에서 여러번 같은 변수명을 입력해야하는 번거로움이 있다.\n",
    "\n",
    "그리고 인스턴스를 생성하였을 때에도 인스턴스 객체만을 출력하면 생성된 메모리의 위치를 알려줄 뿐이고, 실제 데이터를 감추고 있다.\n",
    "\n",
    "이때 `__repr__()`메서드를 추가하면 인스턴스를 출력할 때, 필드값이 함께 출력되도록 정의할 수 있다."
   ]
  },
  {
   "cell_type": "code",
   "execution_count": 20,
   "metadata": {},
   "outputs": [
    {
     "data": {
      "text/plain": [
       "Car(id=1, model='K5', create_date=datetime.date(2022, 2, 17))"
      ]
     },
     "execution_count": 20,
     "metadata": {},
     "output_type": "execute_result"
    }
   ],
   "source": [
    "from datetime import date\n",
    "\n",
    "class Car:\n",
    "    def __init__(\n",
    "        self, id: int, model: str, create_date: date\n",
    "    ) -> None:\n",
    "        self.id = id\n",
    "        self.model = model\n",
    "        self.create_date = create_date\n",
    "\n",
    "    def __repr__(self):\n",
    "            return (\n",
    "                self.__class__.__qualname__ + f\"(id={self.id!r}, model={self.model!r}, \"\n",
    "                f\"create_date={self.create_date!r})\"\n",
    "            )\n",
    "\n",
    "k5 = Car(id=1, model=\"K5\", create_date=date(2022, 2, 17))\n",
    "k5"
   ]
  },
  {
   "cell_type": "code",
   "execution_count": 21,
   "metadata": {},
   "outputs": [],
   "source": [
    "# __repr__() !?"
   ]
  },
  {
   "cell_type": "markdown",
   "metadata": {},
   "source": [
    "다음은 `__repr__()` 구현한 클래스에서 인스턴스를 생성할 때, 동일한 필드를 입력했을 때 동등한지 보겠다."
   ]
  },
  {
   "cell_type": "code",
   "execution_count": 22,
   "metadata": {},
   "outputs": [
    {
     "name": "stdout",
     "output_type": "stream",
     "text": [
      "Car(id=1, model='K5', create_date=datetime.date(2022, 2, 17))\n",
      "Car(id=1, model='K5', create_date=datetime.date(2022, 2, 17))\n",
      "False\n"
     ]
    }
   ],
   "source": [
    "k5_1 = Car(id=1, model=\"K5\", create_date=date(2022, 2, 17))\n",
    "k5_2 = Car(id=1, model=\"K5\", create_date=date(2022, 2, 17))\n",
    "print(k5_1, k5_2, sep=\"\\n\")\n",
    "print(k5_1 == k5_2)"
   ]
  },
  {
   "cell_type": "markdown",
   "metadata": {},
   "source": [
    "동일한 필드가 나오지만, 서로 다른 인스턴스로 취급되는 것을 확인할 수 있다.\n",
    "\n",
    "이때 동일한 필드를 입력할 때 동일한 인스턴스로 취급하려면, `__eq__()` 메서드를 추가해야한다."
   ]
  },
  {
   "cell_type": "code",
   "execution_count": 44,
   "metadata": {},
   "outputs": [],
   "source": [
    "from datetime import date\n",
    "\n",
    "class Car:\n",
    "    def __init__(\n",
    "        self, id: int, model: str, create_date: date\n",
    "    ) -> None:\n",
    "        self.id = id\n",
    "        self.model = model\n",
    "        self.create_date = create_date\n",
    "\n",
    "    def __repr__(self):\n",
    "            return (\n",
    "                self.__class__.__qualname__ + f\"(id={self.id!r}, model={self.model!r}, \"\n",
    "                f\"create_date={self.create_date!r})\"\n",
    "            )\n",
    "# __eq__ 도 나중에\n",
    "    def __eq__(self, other):\n",
    "        if other.__class__ is self.__class__:\n",
    "            return (self.id, self.model, self.create_date) == (\n",
    "                other.id,\n",
    "                other.model,\n",
    "                other.create_date,\n",
    "            )\n",
    "        return NotImplemented"
   ]
  },
  {
   "cell_type": "code",
   "execution_count": 45,
   "metadata": {},
   "outputs": [
    {
     "name": "stdout",
     "output_type": "stream",
     "text": [
      "Car(id=1, model='K5', create_date=datetime.date(2022, 2, 17))\n",
      "Car(id=1, model='K5', create_date=datetime.date(2022, 2, 17))\n",
      "True\n"
     ]
    }
   ],
   "source": [
    "k5_1 = Car(id=1, model=\"K5\", create_date=date(2022, 2, 17))\n",
    "k5_2 = Car(id=1, model=\"K5\", create_date=date(2022, 2, 17))\n",
    "print(k5_1, k5_2, sep=\"\\n\")\n",
    "print(k5_1 == k5_2)"
   ]
  },
  {
   "cell_type": "markdown",
   "metadata": {},
   "source": [
    "## 데이터 클래스로 작성하기"
   ]
  },
  {
   "cell_type": "markdown",
   "metadata": {},
   "source": [
    "다음은 위에서 작업하였던 코드들을 dataclass로 구현한다면 어떻게 될지 확인해보도록 하겠다."
   ]
  },
  {
   "cell_type": "code",
   "execution_count": 47,
   "metadata": {},
   "outputs": [],
   "source": [
    "from dataclasses import dataclass\n",
    "from datetime import date\n",
    "\n",
    "\n",
    "@dataclass\n",
    "class Car:\n",
    "    id: int\n",
    "    model: str\n",
    "    create_date: date"
   ]
  },
  {
   "cell_type": "code",
   "execution_count": 49,
   "metadata": {},
   "outputs": [
    {
     "name": "stdout",
     "output_type": "stream",
     "text": [
      "Car(id=1, model='K5', create_date=datetime.date(2022, 2, 17))\n",
      "Car(id=1, model='K5', create_date=datetime.date(2022, 2, 17))\n",
      "True\n"
     ]
    }
   ],
   "source": [
    "k5_1 = Car(id=1, model=\"K5\", create_date=date(2022, 2, 17))\n",
    "k5_2 = Car(id=1, model=\"K5\", create_date=date(2022, 2, 17))\n",
    "print(k5_1, k5_2, sep=\"\\n\")\n",
    "print(k5_1 == k5_2)"
   ]
  },
  {
   "cell_type": "markdown",
   "metadata": {},
   "source": [
    "위에서 구현했던 `__repr__()`, `__eq__()` 등이 dataclass로 랩핑해줌으로써 모두 구현이 되었다. 매우 간단하게 작성이 되었다."
   ]
  },
  {
   "cell_type": "markdown",
   "metadata": {},
   "source": [
    "### dataclass frozen 옵션?\n",
    "\n",
    "위에서 작성된 데이터클래스를 immutable 해지기 위해 frozen 옵션을 사용할 수 있다.\n",
    "\n",
    "기본 디포트로 False로 세팅되어 있기 때문에 `@dataclass(frozen=True)`와 같이 사용할 수 있다. "
   ]
  },
  {
   "cell_type": "markdown",
   "metadata": {},
   "source": [
    "frozen 옵션 `True`와 `False`로 비교해보자."
   ]
  },
  {
   "cell_type": "code",
   "execution_count": 55,
   "metadata": {},
   "outputs": [],
   "source": [
    "from dataclasses import dataclass\n",
    "from datetime import date\n",
    "\n",
    "\n",
    "@dataclass(frozen=False)\n",
    "class Car:\n",
    "    id: int\n",
    "    model: str\n",
    "    create_date: date\n",
    "\n",
    "\n",
    "@dataclass(frozen=True)\n",
    "class CarFrozen:\n",
    "    id: int\n",
    "    model: str\n",
    "    create_date: date\n"
   ]
  },
  {
   "cell_type": "code",
   "execution_count": 56,
   "metadata": {},
   "outputs": [
    {
     "data": {
      "text/plain": [
       "(Car(id=1, model='K5', create_date=datetime.date(2022, 2, 17)),\n",
       " CarFrozen(id=1, model='K5', create_date=datetime.date(2022, 2, 17)))"
      ]
     },
     "execution_count": 56,
     "metadata": {},
     "output_type": "execute_result"
    }
   ],
   "source": [
    "k5_1 = Car(id=1, model=\"K5\", create_date=date(2022, 2, 17))\n",
    "k5_1_frozen = CarFrozen(id=1, model=\"K5\", create_date=date(2022, 2, 17))\n",
    "k5_1, k5_1_frozen"
   ]
  },
  {
   "cell_type": "code",
   "execution_count": 57,
   "metadata": {},
   "outputs": [
    {
     "data": {
      "text/plain": [
       "Car(id=1, model='K3', create_date=datetime.date(2022, 2, 17))"
      ]
     },
     "execution_count": 57,
     "metadata": {},
     "output_type": "execute_result"
    }
   ],
   "source": [
    "k5_1.model = \"K3\"\n",
    "k5_1"
   ]
  },
  {
   "cell_type": "markdown",
   "metadata": {},
   "source": [
    "k5_1의 model을 K3로 변경해 사용하였다."
   ]
  },
  {
   "cell_type": "code",
   "execution_count": 58,
   "metadata": {},
   "outputs": [
    {
     "ename": "FrozenInstanceError",
     "evalue": "cannot assign to field 'model'",
     "output_type": "error",
     "traceback": [
      "\u001b[1;31m---------------------------------------------------------------------------\u001b[0m",
      "\u001b[1;31mFrozenInstanceError\u001b[0m                       Traceback (most recent call last)",
      "\u001b[1;32m<ipython-input-58-5ac084ba293c>\u001b[0m in \u001b[0;36m<module>\u001b[1;34m\u001b[0m\n\u001b[1;32m----> 1\u001b[1;33m \u001b[0mk5_1_frozen\u001b[0m\u001b[1;33m.\u001b[0m\u001b[0mmodel\u001b[0m \u001b[1;33m=\u001b[0m \u001b[1;34m\"K3\"\u001b[0m\u001b[1;33m\u001b[0m\u001b[1;33m\u001b[0m\u001b[0m\n\u001b[0m\u001b[0;32m      2\u001b[0m \u001b[0mk5_1_frozen\u001b[0m\u001b[1;33m\u001b[0m\u001b[1;33m\u001b[0m\u001b[0m\n",
      "\u001b[1;32m<string>\u001b[0m in \u001b[0;36m__setattr__\u001b[1;34m(self, name, value)\u001b[0m\n",
      "\u001b[1;31mFrozenInstanceError\u001b[0m: cannot assign to field 'model'"
     ]
    }
   ],
   "source": [
    "k5_1_frozen.model = \"K3\"\n",
    "k5_1_frozen"
   ]
  },
  {
   "cell_type": "markdown",
   "metadata": {},
   "source": [
    "위와 같이 Frozen True일때 에러가 발생하게 된다."
   ]
  },
  {
   "cell_type": "code",
   "execution_count": null,
   "metadata": {},
   "outputs": [],
   "source": []
  }
 ],
 "metadata": {
  "interpreter": {
   "hash": "2f54893dfe29031941d4e4efbe22ab9f1cf7a98c658d6cb739a3c976ef21cf45"
  },
  "kernelspec": {
   "display_name": "Python 3.7.9 ('jk')",
   "language": "python",
   "name": "python3"
  },
  "language_info": {
   "codemirror_mode": {
    "name": "ipython",
    "version": 3
   },
   "file_extension": ".py",
   "mimetype": "text/x-python",
   "name": "python",
   "nbconvert_exporter": "python",
   "pygments_lexer": "ipython3",
   "version": "3.7.9"
  },
  "orig_nbformat": 4
 },
 "nbformat": 4,
 "nbformat_minor": 2
}
