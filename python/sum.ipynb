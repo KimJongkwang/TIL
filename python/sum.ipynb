{
 "cells": [
  {
   "cell_type": "markdown",
   "source": [
    "### `sum()`을 활용한 개별 요소 합치기"
   ],
   "metadata": {}
  },
  {
   "cell_type": "code",
   "execution_count": 1,
   "source": [
    "data = [[1,2,3], [4,5,6], [7], [8,9]]"
   ],
   "outputs": [],
   "metadata": {}
  },
  {
   "cell_type": "code",
   "execution_count": 2,
   "source": [
    "sum_list = []\r\n",
    "for i in range(len(data)):\r\n",
    "    sum_list += data[i]\r\n",
    "print(sum_list)"
   ],
   "outputs": [
    {
     "output_type": "stream",
     "name": "stdout",
     "text": [
      "[1, 2, 3, 4, 5, 6, 7, 8, 9]\n"
     ]
    }
   ],
   "metadata": {}
  },
  {
   "cell_type": "code",
   "execution_count": 3,
   "source": [
    "sum_list = []\r\n",
    "for i in range(len(data)):\r\n",
    "    sum_list.extend(data[i])\r\n",
    "print(sum_list)"
   ],
   "outputs": [
    {
     "output_type": "stream",
     "name": "stdout",
     "text": [
      "[1, 2, 3, 4, 5, 6, 7, 8, 9]\n"
     ]
    }
   ],
   "metadata": {}
  },
  {
   "cell_type": "code",
   "execution_count": 4,
   "source": [
    "sum_list = sum(data, [])\r\n",
    "print(sum_list)"
   ],
   "outputs": [
    {
     "output_type": "stream",
     "name": "stdout",
     "text": [
      "[1, 2, 3, 4, 5, 6, 7, 8, 9]\n"
     ]
    }
   ],
   "metadata": {}
  },
  {
   "cell_type": "markdown",
   "source": [
    "list of lists 또는 list of tuples, tuple of lists 등에서 개별 요소를 하나의 sequence 으로 결합할 때에도 `sum()`을 사용하면 위와 같이 매우 간결하게 표현됩니다. \r\n",
    "\r\n",
    "sum()에 대해 조금 더 살펴보도록 하겠습니다."
   ],
   "metadata": {}
  },
  {
   "cell_type": "code",
   "execution_count": 5,
   "source": [
    "help(sum)"
   ],
   "outputs": [
    {
     "output_type": "stream",
     "name": "stdout",
     "text": [
      "Help on built-in function sum in module builtins:\n",
      "\n",
      "sum(iterable, start=0, /)\n",
      "    Return the sum of a 'start' value (default: 0) plus an iterable of numbers\n",
      "    \n",
      "    When the iterable is empty, return the start value.\n",
      "    This function is intended specifically for use with numeric values and may\n",
      "    reject non-numeric types.\n",
      "\n"
     ]
    }
   ],
   "metadata": {}
  },
  {
   "cell_type": "markdown",
   "source": [
    "help에서 보다시피 내장함수 sum()의 인자로는 iterable과 start가 있습니다.\r\n",
    "\r\n",
    "iterable은 순회할 수 있는 모든 객체를 의미하고, start는 처음으로 더해줄 값 입니다.\r\n",
    "\r\n",
    "즉, 위에서 `sum(data, start=[])`를 넣어줌으로써 data에서 순회하는 nested list가 빈 list([])를 시작으로 더해지게 됩니다."
   ],
   "metadata": {}
  },
  {
   "cell_type": "code",
   "execution_count": 6,
   "source": [
    "[]+[1,2,3]+[4,5,6]+[7]+[8,9]"
   ],
   "outputs": [
    {
     "output_type": "execute_result",
     "data": {
      "text/plain": [
       "[1, 2, 3, 4, 5, 6, 7, 8, 9]"
      ]
     },
     "metadata": {},
     "execution_count": 6
    }
   ],
   "metadata": {}
  }
 ],
 "metadata": {
  "orig_nbformat": 4,
  "language_info": {
   "name": "python",
   "version": "3.7.9",
   "mimetype": "text/x-python",
   "codemirror_mode": {
    "name": "ipython",
    "version": 3
   },
   "pygments_lexer": "ipython3",
   "nbconvert_exporter": "python",
   "file_extension": ".py"
  },
  "kernelspec": {
   "name": "python3",
   "display_name": "Python 3.7.9 64-bit ('jk': conda)"
  },
  "interpreter": {
   "hash": "2f54893dfe29031941d4e4efbe22ab9f1cf7a98c658d6cb739a3c976ef21cf45"
  }
 },
 "nbformat": 4,
 "nbformat_minor": 2
}