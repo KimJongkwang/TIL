{
 "cells": [
  {
   "cell_type": "markdown",
   "source": [
    "### sum을 활용한 개별 요소 합치기"
   ],
   "metadata": {}
  },
  {
   "cell_type": "code",
   "execution_count": 21,
   "source": [
    "data = [[1,2,3], [4,5,6], [7,8,9]]"
   ],
   "outputs": [],
   "metadata": {}
  },
  {
   "cell_type": "code",
   "execution_count": 36,
   "source": [
    "sum_list = []\r\n",
    "for i in range(len(data)):\r\n",
    "    sum_list += data[i]\r\n",
    "print(sum_list)"
   ],
   "outputs": [
    {
     "output_type": "stream",
     "name": "stdout",
     "text": [
      "[1, 2, 3, 4, 5, 6, 7, 8, 9]\n"
     ]
    }
   ],
   "metadata": {}
  },
  {
   "cell_type": "code",
   "execution_count": 39,
   "source": [
    "sum_list = []\r\n",
    "for i in range(len(data)):\r\n",
    "    sum_list.extend(data[i])\r\n",
    "print(sum_list)"
   ],
   "outputs": [
    {
     "output_type": "stream",
     "name": "stdout",
     "text": [
      "[1, 2, 3, 4, 5, 6, 7, 8, 9]\n"
     ]
    }
   ],
   "metadata": {}
  },
  {
   "cell_type": "code",
   "execution_count": 41,
   "source": [
    "# 매우 간결하다.\r\n",
    "sum_list = sum(data, [])\r\n",
    "print(sum_list)"
   ],
   "outputs": [
    {
     "output_type": "stream",
     "name": "stdout",
     "text": [
      "[1, 2, 3, 4, 5, 6, 7, 8, 9]\n"
     ]
    }
   ],
   "metadata": {}
  }
 ],
 "metadata": {
  "orig_nbformat": 4,
  "language_info": {
   "name": "python",
   "version": "3.7.10",
   "mimetype": "text/x-python",
   "codemirror_mode": {
    "name": "ipython",
    "version": 3
   },
   "pygments_lexer": "ipython3",
   "nbconvert_exporter": "python",
   "file_extension": ".py"
  },
  "kernelspec": {
   "name": "python3",
   "display_name": "Python 3.7.10 64-bit ('jk': conda)"
  },
  "interpreter": {
   "hash": "2f54893dfe29031941d4e4efbe22ab9f1cf7a98c658d6cb739a3c976ef21cf45"
  }
 },
 "nbformat": 4,
 "nbformat_minor": 2
}