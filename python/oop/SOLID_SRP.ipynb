{
 "cells": [
  {
   "cell_type": "markdown",
   "metadata": {},
   "source": [
    "## SOLID 원칙: SRP(Single Responsibiliy Principle)\n",
    "\n",
    "### 책임(Responsibility)\n",
    "\n",
    "책임은 하나의 객체가 수행해야 하는 범위와 기능을 일컫는다.\n",
    "\n",
    "프로그래머 객체는 코드를 작성하고, 배포하는 행위를 하게 되는데, 즉 코드 작성과, 배포에 대한 책임과 역할을 갖는다."
   ]
  },
  {
   "cell_type": "code",
   "execution_count": 15,
   "metadata": {},
   "outputs": [
    {
     "data": {
      "text/plain": [
       "[[1, Ellipsis, 4],\n",
       " [1, Ellipsis, 4],\n",
       " [3, Ellipsis, 4],\n",
       " [1, Ellipsis, 4],\n",
       " [2, Ellipsis, 5]]"
      ]
     },
     "execution_count": 15,
     "metadata": {},
     "output_type": "execute_result"
    }
   ],
   "source": [
    "import pandas as pd\n",
    "\n",
    "df = pd.DataFrame()\n",
    "df[\"A\"] = [\n",
    "    [1, ..., 4], \n",
    "    [1, ..., 4], \n",
    "    [3, ..., 4],\n",
    "    [1, ..., 4],\n",
    "    [2, ..., 5]\n",
    "    ]\n",
    "df[\"B\"] = \"123\"\n",
    "df[\"A\"].tolist()"
   ]
  },
  {
   "cell_type": "code",
   "execution_count": 8,
   "metadata": {},
   "outputs": [
    {
     "data": {
      "text/plain": [
       "[[1, Ellipsis, 4],\n",
       " [1, Ellipsis, 4],\n",
       " [3, Ellipsis, 4],\n",
       " [1, Ellipsis, 4],\n",
       " [2, Ellipsis, 5]]"
      ]
     },
     "execution_count": 8,
     "metadata": {},
     "output_type": "execute_result"
    }
   ],
   "source": [
    "import numpy as np\n",
    "np.array([\n",
    "    [1, ..., 4], \n",
    "    [1, ..., 4], \n",
    "    [3, ..., 4],\n",
    "    [1, ..., 4],\n",
    "    [2, ..., 5]\n",
    "]).tolist()"
   ]
  },
  {
   "cell_type": "code",
   "execution_count": 1,
   "metadata": {},
   "outputs": [],
   "source": [
    "class Programmer:\n",
    "    def __init__(self):\n",
    "        ...\n",
    "\n",
    "    def write_code(self):\n",
    "        ...\n",
    "\n",
    "    def deploy_code(self):\n",
    "        ..."
   ]
  },
  {
   "cell_type": "markdown",
   "metadata": {},
   "source": [
    "또한, 프로그램이라는 객체는 동작하고, 문제시 롤백을 시키는 행위를 하는 것에 대한 책임이 있다라고 할 수 있다."
   ]
  },
  {
   "cell_type": "code",
   "execution_count": 2,
   "metadata": {},
   "outputs": [],
   "source": [
    "class Program:\n",
    "    def __init__(self):\n",
    "        ...\n",
    "\n",
    "    def process(self):\n",
    "        ...\n",
    "\n",
    "    def rollback(self):\n",
    "        ..."
   ]
  },
  {
   "cell_type": "markdown",
   "metadata": {},
   "source": [
    "### SRP(Single Responsibility Principle)\n",
    "\n",
    "객체지향 프로그래밍은 이러하듯 하나의 객체는 하나의 책임만 가지도록 설계하는 것을 지향하며, 이러한 특성을 SRP원칙이라한다.\n",
    "\n",
    "객체의 정체성이 명확하다는 것은 높은 응집도와 낮은 결합도를 유지할 수 있기 때문에 재사용성, 확장성 측면에서 효율적이다.\n",
    "\n",
    "이제 위의 코드를 활용하여 객체의 협력을 다음과 같이 구현해볼 수 있다."
   ]
  },
  {
   "cell_type": "code",
   "execution_count": 3,
   "metadata": {},
   "outputs": [],
   "source": [
    "class Programmer:\n",
    "    def __init__(self):\n",
    "        self.program = Program()  # Programmer는 Program을 의존\n",
    "\n",
    "    def run_code(self):\n",
    "        self.program.process()  # Programmer는 Program이 가진 퍼블릭 메서드를 사용"
   ]
  },
  {
   "cell_type": "code",
   "execution_count": 4,
   "metadata": {},
   "outputs": [],
   "source": [
    "class Program:\n",
    "    def __init__(self):\n",
    "        self.throughput = 0  # 처리량\n",
    "        self._memory = 100\n",
    "\n",
    "    def process(self):\n",
    "        self.throughput += 1\n",
    "        self._memory -= 10\n",
    "    \n",
    "    def rollback(self):\n",
    "        self.throughput = 0\n",
    "        self._memory = 100"
   ]
  },
  {
   "cell_type": "code",
   "execution_count": 5,
   "metadata": {},
   "outputs": [
    {
     "data": {
      "text/plain": [
       "(1, 90)"
      ]
     },
     "execution_count": 5,
     "metadata": {},
     "output_type": "execute_result"
    }
   ],
   "source": [
    "worker1 = Programmer()\n",
    "\n",
    "worker1.run_code()\n",
    "worker1.program.throughput, worker1.program._memory"
   ]
  },
  {
   "cell_type": "markdown",
   "metadata": {},
   "source": [
    "위에서 프로그래머와 프로그램은 각각이 가지는 행위를 가지고 협력할 수 있다.\n",
    "\n",
    "프로그래머 객체는 프로그램 객체와 협력하여 프로그램이 가진 코드를 실행시키면서 프로그램을 동작시킨다.\n",
    "\n",
    "이때, 프로그램 객체에서 수정이 생기더라도 프로그래머 객체는 수정에서 자유로워진다.\n",
    "\n",
    "또한, 한가지 프로그램이 아니라 여러 프로그램을 동시에 실행시키더라도 프로그래머는 객체에서 간단히 추가시킬 수 있기 때문에, 향후의 확장에도 용이해진다."
   ]
  },
  {
   "cell_type": "code",
   "execution_count": null,
   "metadata": {},
   "outputs": [],
   "source": []
  }
 ],
 "metadata": {
  "interpreter": {
   "hash": "2f54893dfe29031941d4e4efbe22ab9f1cf7a98c658d6cb739a3c976ef21cf45"
  },
  "kernelspec": {
   "display_name": "Python 3.7.9 ('jk')",
   "language": "python",
   "name": "python3"
  },
  "language_info": {
   "codemirror_mode": {
    "name": "ipython",
    "version": 3
   },
   "file_extension": ".py",
   "mimetype": "text/x-python",
   "name": "python",
   "nbconvert_exporter": "python",
   "pygments_lexer": "ipython3",
   "version": "3.7.9"
  },
  "orig_nbformat": 4
 },
 "nbformat": 4,
 "nbformat_minor": 2
}
