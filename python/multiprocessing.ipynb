{
 "cells": [
  {
   "cell_type": "markdown",
   "source": [
    "## Python Multiprocessing\r\n",
    "\r\n",
    "멀티프로세싱(multiprocessing)은 말그대로 다중의 처리를 뜻하며, 멀티코어 CPU를 나누어 작업하는 병렬처리하는 방법입니다. \r\n",
    "\r\n",
    "대용량 작업이 필요로할 때, 멀티프로세싱은 보다 빠르게 작업을 처리하는 장점이 있습니다. \r\n",
    "\r\n",
    "하지만, 메모리 사용률이 높아짐과 오버헤드를 수반하는 단점이 있습니다. \r\n",
    "\r\n",
    "또한, 멀티프로세싱이 작업 속도를 향상시킬 수 있으나, 이를 위해서는 병렬컴퓨팅과 프로세스 및 쓰레드에 대한 이해가 필요합니다.\r\n",
    "\r\n",
    "깊이 이해하기는 어렵지만, 예제와 함께 알아보도록 하겠습니다.\r\n",
    "\r\n",
    "Python에서는 내장모듈 `multiprocessing`으로 멀티프로세싱을 할 수 있습니다."
   ],
   "metadata": {}
  },
  {
   "cell_type": "markdown",
   "source": [],
   "metadata": {}
  },
  {
   "cell_type": "code",
   "execution_count": null,
   "source": [],
   "outputs": [],
   "metadata": {}
  }
 ],
 "metadata": {
  "orig_nbformat": 4,
  "language_info": {
   "name": "python"
  }
 },
 "nbformat": 4,
 "nbformat_minor": 2
}