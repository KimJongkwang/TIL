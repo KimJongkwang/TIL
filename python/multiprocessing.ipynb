{
 "cells": [
  {
   "cell_type": "markdown",
   "source": [
    "## Python Multiprocessing\r\n",
    "\r\n",
    "멀티프로세싱(multiprocessing)은 말그대로 다수의 처리를 뜻한다. 대량의 작업을 필요로할 때, 컴퓨터의 CPU를 나누어 병렬처리하는 방법입니다.\r\n",
    "\r\n",
    "Python에서는 내장모듈 `multiprocessing`으로 멀티프로세싱을 할 수 있습니다."
   ],
   "metadata": {}
  },
  {
   "cell_type": "code",
   "execution_count": null,
   "source": [],
   "outputs": [],
   "metadata": {}
  }
 ],
 "metadata": {
  "orig_nbformat": 4,
  "language_info": {
   "name": "python"
  }
 },
 "nbformat": 4,
 "nbformat_minor": 2
}