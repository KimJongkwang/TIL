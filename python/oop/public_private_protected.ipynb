{
 "cells": [
  {
   "cell_type": "markdown",
   "metadata": {},
   "source": [
    "# public, private, protected"
   ]
  },
  {
   "cell_type": "markdown",
   "metadata": {},
   "source": [
    "## public"
   ]
  },
  {
   "cell_type": "code",
   "execution_count": 1,
   "metadata": {},
   "outputs": [
    {
     "name": "stdout",
     "output_type": "stream",
     "text": [
      "현재 KEY는 ABCDEFG입니다..\n"
     ]
    }
   ],
   "source": [
    "class Program:\n",
    "    KEY = \"ABCDEFG\"\n",
    "\n",
    "    def __init__(self, name):\n",
    "        self.name = name\n",
    "\n",
    "    def __str__(self):\n",
    "        return f\"현재 KEY는 {self.KEY}입니다..\"\n",
    "\n",
    "program1 = Program(\"program1\")\n",
    "print(program1)"
   ]
  },
  {
   "cell_type": "code",
   "execution_count": 2,
   "metadata": {},
   "outputs": [
    {
     "data": {
      "text/plain": [
       "('ABCDEFG', 'ABCDEFG')"
      ]
     },
     "execution_count": 2,
     "metadata": {},
     "output_type": "execute_result"
    }
   ],
   "source": [
    "program1.KEY, Program.KEY"
   ]
  },
  {
   "cell_type": "markdown",
   "metadata": {},
   "source": [
    "위의 예제에서 보다시피 총 인구수는 Program이라는 클래스로 프로그램들을 만든다고 할때, API 키를 클래스에 저장해놓는다면 위와 같이 접근할 수 있게 된다.\n",
    "\n",
    "이와 같이 외부에서도 접근이 가능하도록 설계된 프로그래밍 문법이 바로 객체지향 프로그래밍에서의 public 문법이라고 한다.\n",
    "\n",
    "하지만, 위와 반대로 다른 프로그래밍에 의해서 건들여지지 않아야 할 중요한 변수들은 클래스 외부에서 접근이 불가능하도록 설계가 되어야 할 것이다.\n",
    "\n",
    "클래스 안에서 선언된 속성에 대해 외부에서 접근하는 것을 방지하기 위한 문법이 private이다.\n",
    "\n",
    "이외에도 외부에서 접근이 불가능하지만, 상속받은 클래스에서는 사용할 수 있도록 하는 문법이 protected라는 개념이 있다.\n",
    "\n",
    "파이썬에서 protected는 개발자들 사이에서 타이핑처럼 명시적으로 제시를 하는 것일 뿐이지, 에러를 발생시키는 제약사항은 아니다.(자바에서는 제약을 일으킨다.)"
   ]
  },
  {
   "cell_type": "markdown",
   "metadata": {},
   "source": [
    "## private"
   ]
  },
  {
   "cell_type": "markdown",
   "metadata": {},
   "source": [
    "아래의 코드는 위에서 정의한 코드와 모두 동일하나 단지 `KEY` 변수 앞에 언더스코어(_) 를 두번 사용하였다.\n",
    "\n",
    "이것이 파이썬에서 private변수를 생성하는 방법이다. > "
   ]
  },
  {
   "cell_type": "code",
   "execution_count": 3,
   "metadata": {},
   "outputs": [
    {
     "name": "stdout",
     "output_type": "stream",
     "text": [
      "현재 KEY는 ABCDEFG입니다..\n"
     ]
    }
   ],
   "source": [
    "class Program:\n",
    "    __KEY = \"ABCDEFG\"\n",
    "\n",
    "    def __init__(self, name):\n",
    "        self.name = name\n",
    "\n",
    "    def __str__(self):\n",
    "        return f\"현재 KEY는 {self.__KEY}입니다..\"\n",
    "\n",
    "program1 = Program(\"program1\")\n",
    "print(program1)"
   ]
  },
  {
   "cell_type": "code",
   "execution_count": 4,
   "metadata": {},
   "outputs": [
    {
     "ename": "AttributeError",
     "evalue": "type object 'Program' has no attribute '__KEY'",
     "output_type": "error",
     "traceback": [
      "\u001b[1;31m---------------------------------------------------------------------------\u001b[0m",
      "\u001b[1;31mAttributeError\u001b[0m                            Traceback (most recent call last)",
      "\u001b[1;32m<ipython-input-4-59df28f28d42>\u001b[0m in \u001b[0;36m<module>\u001b[1;34m\u001b[0m\n\u001b[1;32m----> 1\u001b[1;33m \u001b[0mProgram\u001b[0m\u001b[1;33m.\u001b[0m\u001b[0m__KEY\u001b[0m\u001b[1;33m\u001b[0m\u001b[1;33m\u001b[0m\u001b[0m\n\u001b[0m",
      "\u001b[1;31mAttributeError\u001b[0m: type object 'Program' has no attribute '__KEY'"
     ]
    }
   ],
   "source": [
    "Program.__KEY"
   ]
  },
  {
   "cell_type": "code",
   "execution_count": 5,
   "metadata": {},
   "outputs": [
    {
     "ename": "AttributeError",
     "evalue": "'Program' object has no attribute '__KEY'",
     "output_type": "error",
     "traceback": [
      "\u001b[1;31m---------------------------------------------------------------------------\u001b[0m",
      "\u001b[1;31mAttributeError\u001b[0m                            Traceback (most recent call last)",
      "\u001b[1;32m<ipython-input-5-ece8239f6655>\u001b[0m in \u001b[0;36m<module>\u001b[1;34m\u001b[0m\n\u001b[1;32m----> 1\u001b[1;33m \u001b[0mprogram1\u001b[0m\u001b[1;33m.\u001b[0m\u001b[0m__KEY\u001b[0m\u001b[1;33m\u001b[0m\u001b[1;33m\u001b[0m\u001b[0m\n\u001b[0m",
      "\u001b[1;31mAttributeError\u001b[0m: 'Program' object has no attribute '__KEY'"
     ]
    }
   ],
   "source": [
    "program1.__KEY"
   ]
  },
  {
   "cell_type": "markdown",
   "metadata": {},
   "source": [
    "private 변수로 만들어지면, 함수 외부에서 접근할 때 객체가 갖고있지 않은 속성으로 AttributeError를 일으킨다.\n",
    "\n",
    "하지만, 파이썬은 동적타이핑 프로그래밍 언어로 변수에 대한 형선언 조차하지 않기 때문에 위와 같은 방식은 주로 사용되지 않는다.(라고 생각하고 있다.)"
   ]
  },
  {
   "cell_type": "markdown",
   "metadata": {},
   "source": [
    "## protected\n",
    "\n",
    "protected 변수는 상속한 클래스에 대해서만 사용할 수 있도록 한다.\n",
    "\n",
    "하지만 파이썬에서는 이를 강제하지는 않는다. 언더스코어(_)를 하나만 씀으로써 명시적으로 protected 변수임을 알린다.\n",
    "\n",
    "마찬가지로 예제를 보자. 위에서 생성한 `Program`클래스를 상속하여 __KEY를 받아보자."
   ]
  },
  {
   "cell_type": "code",
   "execution_count": 6,
   "metadata": {},
   "outputs": [
    {
     "ename": "AttributeError",
     "evalue": "type object 'Game' has no attribute '_Game__KEY'",
     "output_type": "error",
     "traceback": [
      "\u001b[1;31m---------------------------------------------------------------------------\u001b[0m",
      "\u001b[1;31mAttributeError\u001b[0m                            Traceback (most recent call last)",
      "\u001b[1;32m<ipython-input-6-58653e39c3a2>\u001b[0m in \u001b[0;36m<module>\u001b[1;34m\u001b[0m\n\u001b[0;32m      8\u001b[0m \u001b[1;33m\u001b[0m\u001b[0m\n\u001b[0;32m      9\u001b[0m \u001b[0mfps\u001b[0m \u001b[1;33m=\u001b[0m \u001b[0mGame\u001b[0m\u001b[1;33m(\u001b[0m\u001b[1;34m\"SuddenAttack\"\u001b[0m\u001b[1;33m,\u001b[0m \u001b[1;34m\"FPS\"\u001b[0m\u001b[1;33m)\u001b[0m\u001b[1;33m\u001b[0m\u001b[1;33m\u001b[0m\u001b[0m\n\u001b[1;32m---> 10\u001b[1;33m \u001b[0mfps\u001b[0m\u001b[1;33m.\u001b[0m\u001b[0mprint_key\u001b[0m\u001b[1;33m(\u001b[0m\u001b[1;33m)\u001b[0m\u001b[1;33m\u001b[0m\u001b[1;33m\u001b[0m\u001b[0m\n\u001b[0m",
      "\u001b[1;32m<ipython-input-6-58653e39c3a2>\u001b[0m in \u001b[0;36mprint_key\u001b[1;34m(self)\u001b[0m\n\u001b[0;32m      5\u001b[0m \u001b[1;33m\u001b[0m\u001b[0m\n\u001b[0;32m      6\u001b[0m     \u001b[1;32mdef\u001b[0m \u001b[0mprint_key\u001b[0m\u001b[1;33m(\u001b[0m\u001b[0mself\u001b[0m\u001b[1;33m)\u001b[0m\u001b[1;33m:\u001b[0m\u001b[1;33m\u001b[0m\u001b[1;33m\u001b[0m\u001b[0m\n\u001b[1;32m----> 7\u001b[1;33m         \u001b[1;32mreturn\u001b[0m \u001b[1;34mf\"{Game.__KEY}\"\u001b[0m\u001b[1;33m\u001b[0m\u001b[1;33m\u001b[0m\u001b[0m\n\u001b[0m\u001b[0;32m      8\u001b[0m \u001b[1;33m\u001b[0m\u001b[0m\n\u001b[0;32m      9\u001b[0m \u001b[0mfps\u001b[0m \u001b[1;33m=\u001b[0m \u001b[0mGame\u001b[0m\u001b[1;33m(\u001b[0m\u001b[1;34m\"SuddenAttack\"\u001b[0m\u001b[1;33m,\u001b[0m \u001b[1;34m\"FPS\"\u001b[0m\u001b[1;33m)\u001b[0m\u001b[1;33m\u001b[0m\u001b[1;33m\u001b[0m\u001b[0m\n",
      "\u001b[1;31mAttributeError\u001b[0m: type object 'Game' has no attribute '_Game__KEY'"
     ]
    }
   ],
   "source": [
    "class Game(Program):\n",
    "    def __init__(self, name, type):\n",
    "        super().__init__(name)\n",
    "        self.type = type\n",
    "\n",
    "    def print_key(self):\n",
    "        return f\"{Game.__KEY}\"\n",
    "\n",
    "fps = Game(\"SuddenAttack\", \"FPS\")\n",
    "fps.print_key()"
   ]
  },
  {
   "cell_type": "markdown",
   "metadata": {},
   "source": [
    "언급한 바처럼 언더스코어(_)가 두 번 사용된 private 변수는 상속을 했지만, 접근이 불가능하다.\n",
    "\n",
    "그렇다면, protected 변수는 가능할까."
   ]
  },
  {
   "cell_type": "code",
   "execution_count": 7,
   "metadata": {},
   "outputs": [
    {
     "name": "stdout",
     "output_type": "stream",
     "text": [
      "ABCDEFG ABCDEFG\n"
     ]
    }
   ],
   "source": [
    "class Program:\n",
    "    _KEY = \"ABCDEFG\"\n",
    "\n",
    "    def __init__(self, name):\n",
    "        self.name = name\n",
    "\n",
    "    def __str__(self):\n",
    "        return f\"현재 KEY는 {self._KEY}입니다..\"\n",
    "\n",
    "class Game(Program):\n",
    "    def __init__(self, name, type):\n",
    "        super().__init__(name)\n",
    "        self.type = type\n",
    "\n",
    "    def print_key(self):\n",
    "        return f\"{Game._KEY}\"\n",
    "\n",
    "fps = Game(\"SuddenAttack\", \"FPS\")\n",
    "\n",
    "print(fps.print_key(), fps._KEY)"
   ]
  },
  {
   "cell_type": "markdown",
   "metadata": {},
   "source": [
    "접근이 가능하다. 하지만, 이상한 점이 있다. \n",
    "\n",
    "상속된 클래스내부에서만 접근이 가능한 것이 아니라, `print()`문에 `fps._KEY`로도 접근이 가능하다.\n",
    "\n",
    "즉, 위에서 말한 바와 같이 protected는 사실상 컨벤션과 같은 관례로 사용될 뿐, 실제 프로그래밍에는 public과 동일하게 동작하는 것을 알 수 있다.\n",
    "\n",
    "하지만, 코드의 가독성과 유지보수 및 협업을 위해서는 PEP에서 제안한 것 같이 컨벤션을 준수하는 것이 좋겠다."
   ]
  },
  {
   "cell_type": "code",
   "execution_count": null,
   "metadata": {},
   "outputs": [],
   "source": []
  }
 ],
 "metadata": {
  "interpreter": {
   "hash": "104d9cccc8e42ca21e45c87cc8630068703fb2fd9a73f8a95f7377d55769478f"
  },
  "kernelspec": {
   "display_name": "Python 3.7.10 ('ecobrainjk')",
   "language": "python",
   "name": "python3"
  },
  "language_info": {
   "codemirror_mode": {
    "name": "ipython",
    "version": 3
   },
   "file_extension": ".py",
   "mimetype": "text/x-python",
   "name": "python",
   "nbconvert_exporter": "python",
   "pygments_lexer": "ipython3",
   "version": "3.7.10"
  },
  "orig_nbformat": 4
 },
 "nbformat": 4,
 "nbformat_minor": 2
}
