{
 "cells": [
  {
   "cell_type": "markdown",
   "source": [
    "## Python Multiprocessing\r\n",
    "\r\n",
    "멀티프로세싱(multiprocessing)은 말그대로 다중의 처리를 뜻하며, 멀티코어 CPU를 나누어 작업하는 병렬처리하는 방법입니다. \r\n",
    "\r\n",
    "대용량 작업이 필요로할 때, 멀티프로세싱은 보다 빠르게 작업을 처리하는 장점이 있습니다. \r\n",
    "\r\n",
    "하지만, 메모리 사용률이 높아짐과 오버헤드를 수반하는 단점이 있습니다. \r\n",
    "\r\n",
    "또한, 멀티프로세싱이 작업 속도를 향상시킬 수 있으나, 이를 위해서는 병렬컴퓨팅과 프로세스 및 쓰레드에 대한 이해가 필요합니다.\r\n",
    "\r\n",
    "깊이 이해하기는 어렵지만, 예제와 함께 알아보도록 하겠습니다."
   ],
   "metadata": {}
  },
  {
   "cell_type": "markdown",
   "source": [
    "- Python에서는 내장모듈 `multiprocessing`으로 멀티프로세싱을 할 수 있습니다.\r\n",
    "- Jupyter notebook에서는 multiprocessing을 지원하지 않는다고 합니다. 이유는 추후 알아보겠습니다.\r\n",
    "    + 따라서 테스트를 위해 현재 경로에 제곱을 반환하는 함수를 만들어 모듈을 불러오도록 하겠습니다.\r\n",
    "\r\n",
    "```\r\n",
    "def return_multiply(n):\r\n",
    "    import multiprocessing\r\n",
    "    return print(n ** 2)\r\n",
    "```"
   ],
   "metadata": {}
  },
  {
   "cell_type": "code",
   "execution_count": 1,
   "source": [
    "import multi_proc\r\n",
    "\r\n",
    "x = [1]\r\n",
    "\r\n",
    "multi_proc(x)"
   ],
   "outputs": [
    {
     "output_type": "error",
     "ename": "TypeError",
     "evalue": "'module' object is not callable",
     "traceback": [
      "\u001b[1;31m---------------------------------------------------------------------------\u001b[0m",
      "\u001b[1;31mTypeError\u001b[0m                                 Traceback (most recent call last)",
      "\u001b[1;32m<ipython-input-1-1e2c4f2dbb81>\u001b[0m in \u001b[0;36m<module>\u001b[1;34m\u001b[0m\n\u001b[0;32m      3\u001b[0m \u001b[0mx\u001b[0m \u001b[1;33m=\u001b[0m \u001b[1;33m[\u001b[0m\u001b[1;36m1\u001b[0m\u001b[1;33m]\u001b[0m\u001b[1;33m\u001b[0m\u001b[1;33m\u001b[0m\u001b[0m\n\u001b[0;32m      4\u001b[0m \u001b[1;33m\u001b[0m\u001b[0m\n\u001b[1;32m----> 5\u001b[1;33m \u001b[0mmulti_proc\u001b[0m\u001b[1;33m(\u001b[0m\u001b[0mx\u001b[0m\u001b[1;33m)\u001b[0m\u001b[1;33m\u001b[0m\u001b[1;33m\u001b[0m\u001b[0m\n\u001b[0m",
      "\u001b[1;31mTypeError\u001b[0m: 'module' object is not callable"
     ]
    }
   ],
   "metadata": {}
  },
  {
   "cell_type": "code",
   "execution_count": 4,
   "source": [
    "return_multiply(2)"
   ],
   "outputs": [
    {
     "output_type": "stream",
     "name": "stdout",
     "text": [
      "4\n"
     ]
    }
   ],
   "metadata": {}
  },
  {
   "cell_type": "code",
   "execution_count": 1,
   "source": [
    "from multiprocessing import Pool\r\n",
    "\r\n",
    "def f(x):\r\n",
    "    return print(x*x)\r\n",
    "\r\n",
    "x = list(range(1, 10))\r\n",
    "with Pool(5) as p:\r\n",
    "    print(p.map(f, x))"
   ],
   "outputs": [],
   "metadata": {}
  },
  {
   "cell_type": "code",
   "execution_count": null,
   "source": [],
   "outputs": [],
   "metadata": {}
  }
 ],
 "metadata": {
  "orig_nbformat": 4,
  "language_info": {
   "name": "python",
   "version": "3.7.10",
   "mimetype": "text/x-python",
   "codemirror_mode": {
    "name": "ipython",
    "version": 3
   },
   "pygments_lexer": "ipython3",
   "nbconvert_exporter": "python",
   "file_extension": ".py"
  },
  "kernelspec": {
   "name": "python3",
   "display_name": "Python 3.7.10 64-bit ('jk': conda)"
  },
  "interpreter": {
   "hash": "2f54893dfe29031941d4e4efbe22ab9f1cf7a98c658d6cb739a3c976ef21cf45"
  }
 },
 "nbformat": 4,
 "nbformat_minor": 2
}