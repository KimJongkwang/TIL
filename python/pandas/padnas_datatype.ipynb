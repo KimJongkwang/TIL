{
 "cells": [
  {
   "cell_type": "markdown",
   "metadata": {},
   "source": [
    "## Pandas Datatype"
   ]
  },
  {
   "cell_type": "markdown",
   "metadata": {},
   "source": [
    "아래와 같이 integer와 string이 함께 시리즈로 데이터프레임을 형성했을 때 datatype은 어떻게 되는지 알아보겠습니다."
   ]
  },
  {
   "cell_type": "code",
   "execution_count": 6,
   "metadata": {},
   "outputs": [],
   "source": [
    "import pandas as pd\n",
    "\n",
    "a = [1, 2, 3, 4, 'a', 'c']\n",
    "df = pd.DataFrame(a, columns=['a'])"
   ]
  },
  {
   "cell_type": "markdown",
   "metadata": {},
   "source": [
    "#### df.info()\n",
    "\n",
    "info() 함수를 사용하면 전체적으로 데이터프레임이 가진 정보를 보여줍니다.\n",
    "\n",
    "위에서 생성한 'a'컬럼의 datatype은 Dtype에서 볼 수 있듯이 object로 객체로 나타납니다."
   ]
  },
  {
   "cell_type": "code",
   "execution_count": 7,
   "metadata": {},
   "outputs": [
    {
     "name": "stdout",
     "output_type": "stream",
     "text": [
      "<class 'pandas.core.frame.DataFrame'>\n",
      "RangeIndex: 6 entries, 0 to 5\n",
      "Data columns (total 1 columns):\n",
      " #   Column  Non-Null Count  Dtype \n",
      "---  ------  --------------  ----- \n",
      " 0   a       6 non-null      object\n",
      "dtypes: object(1)\n",
      "memory usage: 176.0+ bytes\n"
     ]
    }
   ],
   "source": [
    "df.info()"
   ]
  },
  {
   "cell_type": "markdown",
   "metadata": {},
   "source": [
    "그럼 각각의 로우에서 데이터 객체인지 확인해보겠습니다."
   ]
  },
  {
   "cell_type": "code",
   "execution_count": 10,
   "metadata": {},
   "outputs": [
    {
     "name": "stdout",
     "output_type": "stream",
     "text": [
      "<class 'int'>\n",
      "<class 'int'>\n",
      "<class 'int'>\n",
      "<class 'int'>\n",
      "<class 'str'>\n",
      "<class 'str'>\n"
     ]
    }
   ],
   "source": [
    "for idx, row in df.iterrows():\n",
    "    print(type(row[0]))"
   ]
  },
  {
   "cell_type": "markdown",
   "metadata": {},
   "source": [
    "위와 같이 각각의 로우가 가지는 datatype은 처음 선언한 a의 리스트구조와 동일합니다."
   ]
  },
  {
   "cell_type": "code",
   "execution_count": 48,
   "metadata": {},
   "outputs": [
    {
     "data": {
      "text/plain": [
       "(a    object\n",
       " dtype: object,\n",
       " dtype('O'))"
      ]
     },
     "execution_count": 48,
     "metadata": {},
     "output_type": "execute_result"
    }
   ],
   "source": [
    "df.dtypes, df['a'].dtypes"
   ]
  },
  {
   "cell_type": "markdown",
   "metadata": {},
   "source": [
    "데이터프레임의 dtypes 메서드로 확인했을 때는 info()와 동일합니다.\n",
    "\n",
    "그런데, df['a']와 같이 series로 dtype을 확인하면 dtype('O')로 출력이 됩니다.\n",
    "\n",
    "Pandas가 Numpy에 기반하여 개발된 것으로 ('O')와 같은 dtype은 Numpy에서 dtype 클래스 유형입니다.\n",
    "\n",
    "dtype 클래스 유형은 아래와 같이 정리됩니다. 참고로 알아두면 좋을 것 같습니다.\n",
    "\n",
    "- b\tboolean\n",
    "- i\tsigned integer\n",
    "- u\tunsigned integer\n",
    "- f\tfloating-point\n",
    "- c\tcomplex floating-point\n",
    "- m\ttimedelta\n",
    "- M\tdatetime\n",
    "- O\tobject\n",
    "- S\t(byte-)string\n",
    "- U\tUnicode\n",
    "- V\tvoid\n",
    "\n",
    "> [docs.scipy.org/doc/numpy](https://docs.scipy.org/doc/numpy-1.15.1/reference/generated/numpy.dtype.html#numpy.dtype)"
   ]
  },
  {
   "cell_type": "markdown",
   "metadata": {},
   "source": [
    "그럼 본론으로 다시 돌아와 데이터프레임에서 로우마다 datatype을 확인하기 위해 Pandas에서 제공하는 유틸리티 기능을 사용하는 방법도 있습니다.\n",
    "\n",
    "`is_numeric_dtype()`, `is_string_dtype()` 등 각각의 datatype을 boolean으로 반환하는 기능을 제공하고 있습니다.\n",
    "\n",
    "사실 자주 사용할지는 모르겠습니다.\n",
    "\n",
    "> [pandas.pydata.org](https://pandas.pydata.org/docs/reference/api/pandas.describe_option.html)"
   ]
  },
  {
   "cell_type": "code",
   "execution_count": 54,
   "metadata": {},
   "outputs": [
    {
     "name": "stdout",
     "output_type": "stream",
     "text": [
      "False\n"
     ]
    }
   ],
   "source": [
    "from pandas.api.types import (is_integer_dtype, is_numeric_dtype, \n",
    "                              is_float_dtype, is_string_dtype)\n",
    "\n",
    "\n",
    "print(is_integer_dtype(df['a']))"
   ]
  },
  {
   "cell_type": "markdown",
   "metadata": {},
   "source": [
    "아래와 같이 전체적인 컬럼들을 검사할 때 사용할 수 있겠지만, info()가 더욱 간편할 것 같습니다."
   ]
  },
  {
   "cell_type": "code",
   "execution_count": 62,
   "metadata": {},
   "outputs": [
    {
     "name": "stdout",
     "output_type": "stream",
     "text": [
      "False\n",
      "False\n",
      "True\n"
     ]
    }
   ],
   "source": [
    "df['a'] = [1.0,2.0,3.0,4.0,5.0,6.0]\n",
    "df['b'] = [1,2,3,4,5,6]\n",
    "df['c'] = ['a', 'b', None, None, None, None]\n",
    "\n",
    "for i in df:\n",
    "    print(is_string_dtype(df[i]))"
   ]
  },
  {
   "cell_type": "code",
   "execution_count": 63,
   "metadata": {},
   "outputs": [
    {
     "name": "stdout",
     "output_type": "stream",
     "text": [
      "<class 'pandas.core.frame.DataFrame'>\n",
      "RangeIndex: 6 entries, 0 to 5\n",
      "Data columns (total 3 columns):\n",
      " #   Column  Non-Null Count  Dtype  \n",
      "---  ------  --------------  -----  \n",
      " 0   a       6 non-null      float64\n",
      " 1   b       6 non-null      int64  \n",
      " 2   c       2 non-null      object \n",
      "dtypes: float64(1), int64(1), object(1)\n",
      "memory usage: 272.0+ bytes\n"
     ]
    }
   ],
   "source": [
    "df.info()"
   ]
  }
 ],
 "metadata": {
  "interpreter": {
   "hash": "2f54893dfe29031941d4e4efbe22ab9f1cf7a98c658d6cb739a3c976ef21cf45"
  },
  "kernelspec": {
   "display_name": "Python 3.7.9 64-bit ('jk': conda)",
   "name": "python3"
  },
  "language_info": {
   "codemirror_mode": {
    "name": "ipython",
    "version": 3
   },
   "file_extension": ".py",
   "mimetype": "text/x-python",
   "name": "python",
   "nbconvert_exporter": "python",
   "pygments_lexer": "ipython3",
   "version": "3.7.9"
  },
  "orig_nbformat": 4
 },
 "nbformat": 4,
 "nbformat_minor": 2
}
