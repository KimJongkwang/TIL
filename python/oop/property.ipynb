{
 "cells": [
  {
   "cell_type": "markdown",
   "metadata": {},
   "source": [
    "# Property, getter, setter"
   ]
  },
  {
   "cell_type": "code",
   "execution_count": 1,
   "metadata": {},
   "outputs": [],
   "source": [
    "class People:\n",
    "    __total_population = 0\n",
    "\n",
    "    def __init__(self, name, age):\n",
    "        self.__name = name\n",
    "        self.__age = age\n",
    "        People.__total_population += 1\n",
    "\n",
    "    def __str__(self):\n",
    "        return f\"현재 총 인구는 {self.__name}을 포함한 {People.__total_population}명 입니다.\"\n",
    "\n",
    "    def get_name(self):    # getter\n",
    "        return self.__name\n",
    "\n",
    "    def get_age(self):     # getter\n",
    "        return self.__age\n",
    "\n",
    "    def set_name(self, new_name):  # setter\n",
    "        self.__name = new_name\n",
    "    \n",
    "    def set_age(self, new_age):  # setter\n",
    "        self.__age = new_age\n",
    "\n",
    "jk = People(\"JK\", 30)\n",
    "my = People(\"MY\", 29)"
   ]
  },
  {
   "cell_type": "markdown",
   "metadata": {},
   "source": [
    "위와 같이 정의된 클래스가 있다고 할 때, private 변수로 지정하였기 때문에, __name. __age에 바로 접근하는 것이 불가능하다.\n",
    "\n",
    "private 변수로 선언된 name과 age를 가져오려면 정의한 함수(getter)를 호출하여 불러올 수 있다."
   ]
  },
  {
   "cell_type": "code",
   "execution_count": 2,
   "metadata": {},
   "outputs": [
    {
     "data": {
      "text/plain": [
       "('JK', 30)"
      ]
     },
     "execution_count": 2,
     "metadata": {},
     "output_type": "execute_result"
    }
   ],
   "source": [
    "jk.get_name(), jk.get_age()"
   ]
  },
  {
   "cell_type": "markdown",
   "metadata": {},
   "source": [
    "필요한 내부의 변수, 데이터를 가져오기 위해서 함수를 호출하는 것이 어색하다고 느껴질 수 있다. \n",
    "\n",
    "또한, 근본적으로는 외부에서 접근을 막기위해 private을 사용하였지만, 이 private 변수를 간헐적으로는 수정을 허용해야할 경우(setter)도 생길 수 있다.\n",
    "\n",
    "이러한 상황에서 사용하는 것이 `property()` 메서드이며, 이를 편리하게 사용하기 위한 `@property` 데코레이터가 있다.\n",
    "\n",
    "## property()\n",
    "\n",
    "property()를 사용하여 다시 name과 age를 가져오도록 하면 아래와 같이 사용할 수 있다.\n",
    "\n",
    "위에서 작성한 People을 상속받아 변경점만 작성하겠다."
   ]
  },
  {
   "cell_type": "code",
   "execution_count": 3,
   "metadata": {},
   "outputs": [
    {
     "data": {
      "text/plain": [
       "('JK', 30)"
      ]
     },
     "execution_count": 3,
     "metadata": {},
     "output_type": "execute_result"
    }
   ],
   "source": [
    "class PropertyPeople(People):\n",
    "    name = property(People.get_name)\n",
    "    age = property(People.get_age)\n",
    "\n",
    "jk = PropertyPeople(\"JK\", 30)\n",
    "jk.name, jk.age\n"
   ]
  },
  {
   "cell_type": "code",
   "execution_count": 4,
   "metadata": {},
   "outputs": [
    {
     "ename": "AttributeError",
     "evalue": "can't set attribute",
     "output_type": "error",
     "traceback": [
      "\u001b[1;31m---------------------------------------------------------------------------\u001b[0m",
      "\u001b[1;31mAttributeError\u001b[0m                            Traceback (most recent call last)",
      "\u001b[1;32m<ipython-input-4-9bad0a6e8a2f>\u001b[0m in \u001b[0;36m<module>\u001b[1;34m\u001b[0m\n\u001b[1;32m----> 1\u001b[1;33m \u001b[0mjk\u001b[0m\u001b[1;33m.\u001b[0m\u001b[0mname\u001b[0m \u001b[1;33m=\u001b[0m \u001b[1;34m\"Kim\"\u001b[0m\u001b[1;33m\u001b[0m\u001b[1;33m\u001b[0m\u001b[0m\n\u001b[0m",
      "\u001b[1;31mAttributeError\u001b[0m: can't set attribute"
     ]
    }
   ],
   "source": [
    "jk.name = \"Kim\""
   ]
  },
  {
   "cell_type": "markdown",
   "metadata": {},
   "source": [
    "이제 public변수를 접근하는 것과 같이 접근이 가능해졌다. 하지만, 외부에서 변경하고자 하면 AttributeError 가 발생한다.\n",
    "\n",
    "이 경우에 수정을 하고자 하면 어떻게 해야할까. 마찬가지로 `property()`에 `setter`를 넣어주면 된다.\n",
    "\n",
    "이러한 방식으로 `deleter`를 넣어줄 수 도 있고, property 인자로 속성에 대한 명시적인 description도 넣을 수 있다.\n",
    "\n",
    "아래를 보면, `property()`메서드에 위에서 정의한 `setter(set_name)`를 넣어줌으로써 수정이 가능해졌다."
   ]
  },
  {
   "cell_type": "code",
   "execution_count": null,
   "metadata": {},
   "outputs": [
    {
     "data": {
      "text/plain": [
       "'Kim'"
      ]
     },
     "execution_count": 79,
     "metadata": {},
     "output_type": "execute_result"
    }
   ],
   "source": [
    "class PropertyPeople(People):\n",
    "    name = property(People.get_name, People.set_name, \"Name property\")\n",
    "    age = property(People.get_age, People.set_age)\n",
    "\n",
    "jk = PropertyPeople(\"JK\", 30)\n",
    "jk.name = \"Kim\"\n",
    "jk.name"
   ]
  },
  {
   "cell_type": "markdown",
   "metadata": {},
   "source": [
    "## @property\n",
    "\n",
    "위에서 `property()` 별도로 정의하는 것이 번거롭다면, 데코레이터로 활용하면 더욱 더 편리하게 사용할 수 있다.\n",
    "\n",
    "간단한 설명을 위해 age property는 제외하도록 하였다."
   ]
  },
  {
   "cell_type": "code",
   "execution_count": 5,
   "metadata": {},
   "outputs": [],
   "source": [
    "class People:\n",
    "    __total_population = 0\n",
    "\n",
    "    def __init__(self, name, age):\n",
    "        self.__name = name\n",
    "        self.__age = age\n",
    "        People.__total_population += 1\n",
    "\n",
    "    def __str__(self):\n",
    "        return f\"현재 총 인구는 {self.__name}을 포함한 {People.__total_population}명 입니다.\"\n",
    "\n",
    "    @property\n",
    "    def name(self):    # getter\n",
    "        return self.__name\n",
    "\n",
    "    @name.setter\n",
    "    def name(self, new_name):  # setter\n",
    "        self.__name = new_name\n",
    "\n",
    "jk = People(\"JK\", 30)"
   ]
  },
  {
   "cell_type": "code",
   "execution_count": 6,
   "metadata": {},
   "outputs": [
    {
     "name": "stdout",
     "output_type": "stream",
     "text": [
      "JK\n",
      "Kim\n"
     ]
    }
   ],
   "source": [
    "print(jk.name)\n",
    "jk.name = \"Kim\"\n",
    "print(jk.name)"
   ]
  },
  {
   "cell_type": "markdown",
   "metadata": {},
   "source": [
    "위에서 `property()`로 정의한 것과 달리 간단하게 `@property` 데코레이터와 랩핑한 함수명을 그대로 사용함으로써 `setter`까지 적용할 수 있다.\n",
    "\n",
    "이때 주의할 점으로는 `setter`의 함수명을 `@property`로 랩핑한 함수의 이름을 그대로 따라가야한다.\n",
    "\n",
    "### @property를 왜 쓸까?\n",
    "\n",
    "그런데, 이렇게 외부에서 접근이 가능하도록 할 것이라면 왜 public으로 하면 되지 않겠냐는 생각이 들 수 있다.\n",
    "\n",
    "이렇게 `@property`로 속성을 주고 `setter`를 활용할 때, 변경하는 사항에 대해서 규제를 줄 수 있다.\n",
    "\n",
    "위에서 정의한 상태는 일반적인 public과 다를게 없지만, name 변수 값에 규칙을 부여할 수 있다.\n",
    "\n",
    "예를 들어 name이 반드시 10글자 이내여야 한다면 아래와 같이 정의할 수 있다."
   ]
  },
  {
   "cell_type": "code",
   "execution_count": 7,
   "metadata": {},
   "outputs": [],
   "source": [
    "class People:\n",
    "    __total_population = 0\n",
    "\n",
    "    def __init__(self, name, age):\n",
    "        self.__name = name\n",
    "        self.__age = age\n",
    "        People.__total_population += 1\n",
    "\n",
    "    def __str__(self):\n",
    "        return f\"현재 총 인구는 {self.__name}을 포함한 {People.__total_population}명 입니다.\"\n",
    "\n",
    "    @property\n",
    "    def name(self):    # getter\n",
    "        return self.__name\n",
    "\n",
    "    @name.setter\n",
    "    def name(self, new_name):  # setter\n",
    "        if len(new_name) > 10:\n",
    "            raise ValueError(\"invalid name length\")\n",
    "        self.__name = new_name\n",
    "\n",
    "jk = People(\"JK\", 30)"
   ]
  },
  {
   "cell_type": "code",
   "execution_count": 8,
   "metadata": {},
   "outputs": [
    {
     "name": "stdout",
     "output_type": "stream",
     "text": [
      "JK KIM\n"
     ]
    }
   ],
   "source": [
    "jk.name = \"JK KIM\"; print(jk.name)"
   ]
  },
  {
   "cell_type": "code",
   "execution_count": 9,
   "metadata": {},
   "outputs": [
    {
     "ename": "ValueError",
     "evalue": "invalid name length",
     "output_type": "error",
     "traceback": [
      "\u001b[1;31m---------------------------------------------------------------------------\u001b[0m",
      "\u001b[1;31mValueError\u001b[0m                                Traceback (most recent call last)",
      "\u001b[1;32m<ipython-input-9-943f9ace73a2>\u001b[0m in \u001b[0;36m<module>\u001b[1;34m\u001b[0m\n\u001b[1;32m----> 1\u001b[1;33m \u001b[0mjk\u001b[0m\u001b[1;33m.\u001b[0m\u001b[0mname\u001b[0m \u001b[1;33m=\u001b[0m \u001b[1;34m\"10글자 초과의 이름\"\u001b[0m\u001b[1;33m\u001b[0m\u001b[1;33m\u001b[0m\u001b[0m\n\u001b[0m",
      "\u001b[1;32m<ipython-input-7-b86ac748df17>\u001b[0m in \u001b[0;36mname\u001b[1;34m(self, new_name)\u001b[0m\n\u001b[0;32m     17\u001b[0m     \u001b[1;32mdef\u001b[0m \u001b[0mname\u001b[0m\u001b[1;33m(\u001b[0m\u001b[0mself\u001b[0m\u001b[1;33m,\u001b[0m \u001b[0mnew_name\u001b[0m\u001b[1;33m)\u001b[0m\u001b[1;33m:\u001b[0m  \u001b[1;31m# setter\u001b[0m\u001b[1;33m\u001b[0m\u001b[1;33m\u001b[0m\u001b[0m\n\u001b[0;32m     18\u001b[0m         \u001b[1;32mif\u001b[0m \u001b[0mlen\u001b[0m\u001b[1;33m(\u001b[0m\u001b[0mnew_name\u001b[0m\u001b[1;33m)\u001b[0m \u001b[1;33m>\u001b[0m \u001b[1;36m10\u001b[0m\u001b[1;33m:\u001b[0m\u001b[1;33m\u001b[0m\u001b[1;33m\u001b[0m\u001b[0m\n\u001b[1;32m---> 19\u001b[1;33m             \u001b[1;32mraise\u001b[0m \u001b[0mValueError\u001b[0m\u001b[1;33m(\u001b[0m\u001b[1;34m\"invalid name length\"\u001b[0m\u001b[1;33m)\u001b[0m\u001b[1;33m\u001b[0m\u001b[1;33m\u001b[0m\u001b[0m\n\u001b[0m\u001b[0;32m     20\u001b[0m         \u001b[0mself\u001b[0m\u001b[1;33m.\u001b[0m\u001b[0m__name\u001b[0m \u001b[1;33m=\u001b[0m \u001b[0mnew_name\u001b[0m\u001b[1;33m\u001b[0m\u001b[1;33m\u001b[0m\u001b[0m\n\u001b[0;32m     21\u001b[0m \u001b[1;33m\u001b[0m\u001b[0m\n",
      "\u001b[1;31mValueError\u001b[0m: invalid name length"
     ]
    }
   ],
   "source": [
    "jk.name = \"10글자 초과의 이름\""
   ]
  },
  {
   "cell_type": "markdown",
   "metadata": {},
   "source": [
    "이와 같이 사용에 따라서 @property를 통해 getter, setter를 구현할 수 있다. 이것에 대한 사용처는 개발자가 상황에 따라 잘 맞추어야한다.\n",
    "\n",
    "객체지향 프로그래밍을 공부하면서, 느낀 바는 항상 상황에 따라 스스로 판단하여 작성해야하기 때문에 사실 정해진 규칙은 없는 것 같다.\n",
    "\n",
    "사용해도 그만, 안해도 그만이다. 하지만, 코드에 대한 유지보수를 편하게 하는 것은 분명하다. \n",
    "\n",
    "여러 개발자가 후에 이 코드를 봤을 때도 명확하게 이해가 되는 것이 중요한 점 인듯하다."
   ]
  }
 ],
 "metadata": {
  "interpreter": {
   "hash": "104d9cccc8e42ca21e45c87cc8630068703fb2fd9a73f8a95f7377d55769478f"
  },
  "kernelspec": {
   "display_name": "Python 3.7.10 ('ecobrainjk')",
   "language": "python",
   "name": "python3"
  },
  "language_info": {
   "codemirror_mode": {
    "name": "ipython",
    "version": 3
   },
   "file_extension": ".py",
   "mimetype": "text/x-python",
   "name": "python",
   "nbconvert_exporter": "python",
   "pygments_lexer": "ipython3",
   "version": "3.7.10"
  },
  "orig_nbformat": 4
 },
 "nbformat": 4,
 "nbformat_minor": 2
}
