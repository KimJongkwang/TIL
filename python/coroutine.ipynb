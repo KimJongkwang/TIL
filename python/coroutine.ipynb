{
 "cells": [
  {
   "cell_type": "markdown",
   "metadata": {},
   "source": [
    "## 코루틴(Coroutine)\n",
    "\n",
    "`코루틴(Coroutine)`은 제너레이터의 한 형태입니다.\n",
    "\n",
    "제너레이터는 이터러블한 객체를 입력받아 yield로 순서대로 반환하는 이터레이터의 역할을 하는 반면에, 코루틴은 반대로 **함수 밖에서 하나씩 값을 입력받아 함수를 순서대로 실행**합니다.\n",
    "\n",
    "이와 관련한 주요 키워드는 `single thread`, `context switching`, `scheduling overhead` 등이 있습니다. 이와 관련한 내용도 GIL을 다룰때 같이 하게 될 것 같습니다._(CS,,)_"
   ]
  },
  {
   "cell_type": "code",
   "execution_count": 1,
   "metadata": {},
   "outputs": [],
   "source": [
    "def coroutine_func():\n",
    "    print(\"1st yield\")\n",
    "    x = (yield)\n",
    "    print(\"2nd yield\")\n",
    "    x = (yield)\n",
    "    print(\"3rd yield\")\n",
    "    x = (yield)\n",
    "    print(\"STOP\")\n",
    "test = coroutine_func()"
   ]
  },
  {
   "cell_type": "code",
   "execution_count": 2,
   "metadata": {},
   "outputs": [
    {
     "name": "stdout",
     "output_type": "stream",
     "text": [
      "1st yield\n",
      "None\n",
      "-----------------------\n",
      "2nd yield\n",
      "None\n",
      "-----------------------\n",
      "3rd yield\n",
      "None\n",
      "-----------------------\n",
      "STOP\n"
     ]
    },
    {
     "ename": "StopIteration",
     "evalue": "",
     "output_type": "error",
     "traceback": [
      "\u001b[1;31m---------------------------------------------------------------------------\u001b[0m",
      "\u001b[1;31mStopIteration\u001b[0m                             Traceback (most recent call last)",
      "\u001b[1;32m<ipython-input-2-51b658354d19>\u001b[0m in \u001b[0;36m<module>\u001b[1;34m\u001b[0m\n\u001b[0;32m      5\u001b[0m \u001b[0mprint\u001b[0m\u001b[1;33m(\u001b[0m\u001b[0mnext\u001b[0m\u001b[1;33m(\u001b[0m\u001b[0mtest\u001b[0m\u001b[1;33m)\u001b[0m\u001b[1;33m)\u001b[0m\u001b[1;33m\u001b[0m\u001b[1;33m\u001b[0m\u001b[0m\n\u001b[0;32m      6\u001b[0m \u001b[0mprint\u001b[0m\u001b[1;33m(\u001b[0m\u001b[1;34m\"-----------------------\"\u001b[0m\u001b[1;33m)\u001b[0m\u001b[1;33m\u001b[0m\u001b[1;33m\u001b[0m\u001b[0m\n\u001b[1;32m----> 7\u001b[1;33m \u001b[0mprint\u001b[0m\u001b[1;33m(\u001b[0m\u001b[0mnext\u001b[0m\u001b[1;33m(\u001b[0m\u001b[0mtest\u001b[0m\u001b[1;33m)\u001b[0m\u001b[1;33m)\u001b[0m\u001b[1;33m\u001b[0m\u001b[1;33m\u001b[0m\u001b[0m\n\u001b[0m",
      "\u001b[1;31mStopIteration\u001b[0m: "
     ]
    }
   ],
   "source": [
    "print(next(test))\n",
    "print(\"-----------------------\")\n",
    "print(next(test))\n",
    "print(\"-----------------------\")\n",
    "print(next(test))\n",
    "print(\"-----------------------\")\n",
    "print(next(test))"
   ]
  },
  {
   "cell_type": "markdown",
   "metadata": {},
   "source": [
    "`코루틴`은 위와 같은 함수에서 yield를 반환할 때, None을 반환하는 특징을 갖습니다.\n",
    "\n",
    "이 yield에 `코루틴`이 None이 아니라 값을 받아서 실행하기 위해서는 `send()` 메서드와 함께 사용됩니다.\n",
    "\n",
    "`코루틴`은 함수(제너레이터) 외부와의 상호작용을 목적으로 사용합니다. 예를 들어 이터레블 객체를 미리 입력 받아 실행되는 일반적인 제너레이터와 반대로 입력값을 받을 때만 실행합니다."
   ]
  },
  {
   "cell_type": "code",
   "execution_count": 3,
   "metadata": {},
   "outputs": [],
   "source": [
    "def coroutine_send_msg():\n",
    "    print(\"1st yield\")\n",
    "    print(\"Hi\")\n",
    "    x = yield\n",
    "    print(\"2nd yield\")\n",
    "    print(\"My Name is \")    \n",
    "    print(x)\n",
    "    x = yield\n",
    "    print(\"3rd yield\")\n",
    "    print(\"Age is \")\n",
    "    print(x)\n",
    "    x = yield\n",
    "    print(x)\n",
    "    print(\"STOP\")\n",
    "test = coroutine_send_msg()"
   ]
  },
  {
   "cell_type": "code",
   "execution_count": 4,
   "metadata": {},
   "outputs": [
    {
     "ename": "TypeError",
     "evalue": "can't send non-None value to a just-started generator",
     "output_type": "error",
     "traceback": [
      "\u001b[1;31m---------------------------------------------------------------------------\u001b[0m",
      "\u001b[1;31mTypeError\u001b[0m                                 Traceback (most recent call last)",
      "\u001b[1;32m<ipython-input-4-1cec9160cb5e>\u001b[0m in \u001b[0;36m<module>\u001b[1;34m\u001b[0m\n\u001b[1;32m----> 1\u001b[1;33m \u001b[0mtest\u001b[0m\u001b[1;33m.\u001b[0m\u001b[0msend\u001b[0m\u001b[1;33m(\u001b[0m\u001b[1;34m\"!!\"\u001b[0m\u001b[1;33m)\u001b[0m\u001b[1;33m\u001b[0m\u001b[1;33m\u001b[0m\u001b[0m\n\u001b[0m",
      "\u001b[1;31mTypeError\u001b[0m: can't send non-None value to a just-started generator"
     ]
    }
   ],
   "source": [
    "test.send(\"!!\")"
   ]
  },
  {
   "cell_type": "markdown",
   "metadata": {},
   "source": [
    "위의 예시의 코루틴에서 첫번째 입력인자는 항상 None을 입력해야 합니다. 또는 next로 넘겨야합니다. \n",
    "\n",
    "그렇지 않으면 에러가 발생합니다. "
   ]
  },
  {
   "cell_type": "code",
   "execution_count": 5,
   "metadata": {},
   "outputs": [
    {
     "name": "stdout",
     "output_type": "stream",
     "text": [
      "1st yield\n",
      "Hi\n"
     ]
    }
   ],
   "source": [
    "test.send(None)\n",
    "# next(test)"
   ]
  },
  {
   "cell_type": "code",
   "execution_count": 6,
   "metadata": {},
   "outputs": [
    {
     "name": "stdout",
     "output_type": "stream",
     "text": [
      "2nd yield\n",
      "My Name is \n",
      "Kim\n"
     ]
    }
   ],
   "source": [
    "test.send(\"Kim\")"
   ]
  },
  {
   "cell_type": "code",
   "execution_count": 7,
   "metadata": {},
   "outputs": [
    {
     "name": "stdout",
     "output_type": "stream",
     "text": [
      "3rd yield\n",
      "Age is \n",
      "20\n"
     ]
    }
   ],
   "source": [
    "test.send(\"20\")"
   ]
  },
  {
   "cell_type": "code",
   "execution_count": 8,
   "metadata": {},
   "outputs": [
    {
     "name": "stdout",
     "output_type": "stream",
     "text": [
      "반갑습니다.\n",
      "STOP\n"
     ]
    },
    {
     "ename": "StopIteration",
     "evalue": "",
     "output_type": "error",
     "traceback": [
      "\u001b[1;31m---------------------------------------------------------------------------\u001b[0m",
      "\u001b[1;31mStopIteration\u001b[0m                             Traceback (most recent call last)",
      "\u001b[1;32m<ipython-input-8-108c001b8d2b>\u001b[0m in \u001b[0;36m<module>\u001b[1;34m\u001b[0m\n\u001b[1;32m----> 1\u001b[1;33m \u001b[0mtest\u001b[0m\u001b[1;33m.\u001b[0m\u001b[0msend\u001b[0m\u001b[1;33m(\u001b[0m\u001b[1;34m\"반갑습니다.\"\u001b[0m\u001b[1;33m)\u001b[0m\u001b[1;33m\u001b[0m\u001b[1;33m\u001b[0m\u001b[0m\n\u001b[0m",
      "\u001b[1;31mStopIteration\u001b[0m: "
     ]
    }
   ],
   "source": [
    "test.send(\"반갑습니다.\")"
   ]
  },
  {
   "cell_type": "markdown",
   "metadata": {},
   "source": [
    "위의 출력에서 next를 돌면서 `yield`를 할당한 x를 출력하는 `print(x)`를 주목할 필요가 있어보입니다.\n",
    "\n",
    "처음 `test.send(None)`에서 첫번째 루프가 끝난 이후 두번째 `test.send(\"Kim\")`으로 Kim이 출력되었습니다. \n",
    "\n",
    "\"Kim\"을 출력한 위치가 두번째 yield 위의 print(x) 인것으로 미뤄보았을 때, generator의 send() 함수는 입력값을 이전에 종료한 yield에 보내는 것으로 보입니다.\n",
    "\n",
    "이러한 이유로 처음 코루틴을 실행시킬 시 입력인자를 None으로 주거나 next()로 넘기지 않는 경우에 앞서 반환하는 yield가 없기 때문에 에러가 발생하게 됩니다."
   ]
  },
  {
   "cell_type": "markdown",
   "metadata": {},
   "source": [
    "그렇다면 코루틴은 어떤 상황에서 사용하는지 알아보겠습니다.\n",
    "\n",
    "여러 기능을 동시에 실행하는 것처럼 보여주고자 할때, 동시성(concurrency) 프로그래밍을 이야기하기도 합니다.\n",
    "\n",
    "싱글코어에서 멀티스레드를 동작시키기 위한 방법이지만, 파이썬에서는 `GIL(Global Interpreter Lock)`으로 멀티스레드 사용을 지양하고 있습니다. _(GIL과 관련한 내용은 추후에 다루기로 해야겠습니다.. 어렵다..)_ \n",
    "\n",
    "멀티프로세스와 같은 병렬처리 방법이 동시성 프로그래밍 같아 보일 수 있지만, 동시와 병렬은 엄연히 다릅니다.\n",
    "\n",
    "코루틴은 병렬이 아닌 하나의 코어에서 동시에 기능을 실행할 때 사용합니다.  \n",
    "\n",
    "위에서는 하나의 함수를 실행했지만, 같은 입력값을 받는 여러개의 함수를 동시에 실행하는 것처럼 보이고자 할때 코루틴을 사용할 수 있습니다.\n",
    "\n",
    "코루틴은 비동기식 프로그래밍에서 주요하게 다룹니다."
   ]
  },
  {
   "cell_type": "markdown",
   "metadata": {},
   "source": []
  }
 ],
 "metadata": {
  "interpreter": {
   "hash": "2f54893dfe29031941d4e4efbe22ab9f1cf7a98c658d6cb739a3c976ef21cf45"
  },
  "kernelspec": {
   "display_name": "Python 3.7.10 64-bit ('jk': conda)",
   "language": "python",
   "name": "python3"
  },
  "language_info": {
   "codemirror_mode": {
    "name": "ipython",
    "version": 3
   },
   "file_extension": ".py",
   "mimetype": "text/x-python",
   "name": "python",
   "nbconvert_exporter": "python",
   "pygments_lexer": "ipython3",
   "version": "3.7.10"
  },
  "orig_nbformat": 4
 },
 "nbformat": 4,
 "nbformat_minor": 2
}
