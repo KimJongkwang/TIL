{
 "cells": [
  {
   "cell_type": "markdown",
   "metadata": {},
   "source": [
    "### 클로져(Closure)\n",
    "\n",
    "위키백과에서 클로져는 아래와 같이 정의되어 있습니다.\n",
    "\n",
    "> 컴퓨터 언어에서 클로저(Closure)는 일급 객체 함수(first-class functions)의 개념을 이용하여 스코프(scope)에 묶인 변수를 바인딩 하기 위한 일종의 기술이다. 기능상으로, 클로저는 함수를 저장한 레코드(record)이며, 스코프(scope)의 인수(Factor)들은 클로저가 만들어질 때 정의(define)되며, 스코프 내의 영역이 소멸(remove)되었어도 그에 대한 접근(access)은 독립된 복사본인 클로저를 통해 이루어질 수 있다. [[출처 : 위키백과]](https://ko.wikipedia.org/wiki/%ED%81%B4%EB%A1%9C%EC%A0%80_(%EC%BB%B4%ED%93%A8%ED%84%B0_%ED%94%84%EB%A1%9C%EA%B7%B8%EB%9E%98%EB%B0%8D))\n",
    "\n",
    "도무지 무슨 말인지 이해가 되지 않아 평소에 참고를 많이 하는 박성환님의 블로그에서 확인하였습니다. \n",
    "> [Python의 Closure에 대해 알아보자](https://shoark7.github.io/programming/python/closure-in-python)\n",
    "\n",
    "클로져에 대해 이해하려면, 함수의 중첩, 일급 객체<sup>*</sup>, non-local 스코프를 이해해야 한다고 합니다.\n",
    "\n",
    "<sup>* 개념적으로 함수의 인자, 반환, 수정 할당이 되는 객체, Python은 함수도 일급 객체</sup>\n",
    "\n",
    "\n",
    "이에 대해서는 개략으로 알고 있으나 다음에 다시 다루어보도록 하겠습니다.\n",
    "\n",
    "클로져에 대한 정의는 아래 세 조건을 충족해야 한다고 합니다.\n",
    "\n",
    "- 중첩된 함수\n",
    "    - 2중 For, IF문 등과 같이 함수를 중첩하여 사용\n",
    "- 중첩된 함수는 외부 함수 안에서 상태값을 반드시 참조\n",
    "- 외부 함수는 중첩된 함수를 반환(Non-Local Variable)"
   ]
  },
  {
   "cell_type": "markdown",
   "metadata": {},
   "source": [
    "간단한 클로져 함수를 만들어 시험해보겠습니다.\n",
    "\n",
    "아래의 함수는 정수 x의 y승을 계산하는 함수입니다.\n",
    "\n",
    "함수 multiply는 중첩되어 있고, 외부 함수의 values를 참조하고 있습니다. 또한, 외부 함수인 func1은 multiply를 반환하고 있습니다. \n",
    "\n",
    "위의 세 조건을 모두 만족하고 있습니다."
   ]
  },
  {
   "cell_type": "code",
   "execution_count": 145,
   "metadata": {},
   "outputs": [],
   "source": [
    "def func1(x):\n",
    "    values = []\n",
    "    def multiply(y):\n",
    "        values.append(x ** y)\n",
    "        return values\n",
    "    return multiply"
   ]
  },
  {
   "cell_type": "code",
   "execution_count": 146,
   "metadata": {},
   "outputs": [
    {
     "data": {
      "text/plain": [
       "[1024, 1099511627776]"
      ]
     },
     "execution_count": 146,
     "metadata": {},
     "output_type": "execute_result"
    }
   ],
   "source": [
    "mul_2 = func1(2)\n",
    "mul_2(10)\n",
    "mul_2(40)"
   ]
  },
  {
   "cell_type": "code",
   "execution_count": 147,
   "metadata": {},
   "outputs": [
    {
     "data": {
      "text/plain": [
       "[243, 59049, 14348907]"
      ]
     },
     "execution_count": 147,
     "metadata": {},
     "output_type": "execute_result"
    }
   ],
   "source": [
    "mul_3 = func1(3)\n",
    "mul_3(5)\n",
    "mul_3(10)\n",
    "mul_3(15)"
   ]
  },
  {
   "cell_type": "markdown",
   "metadata": {},
   "source": [
    "이때 cal_data() 함수의 vars에는 2의 10승, 3의 5승이 독립되어 저장됩니다.\n",
    "\n",
    "vars가 로컬 스코프에서 벗어나 free variable 되었기 때문입니다."
   ]
  },
  {
   "cell_type": "markdown",
   "metadata": {},
   "source": [
    "그렇다면, 이렇게 복잡한 클로져를 사용하는 이유가 무엇인지 알아보겠습니다.\n",
    "\n",
    "클로져를 사용했을때의 이점은 아래와 같다 보여집니다.\n",
    "\n",
    "- 클로져에서는 외부함수안의 많은 내부함수들에 대한 변수 관리를 용이하게 해줍니다.\n",
    "- 데코레이터의 개념으로 재사용성이 좋아집니다.\n",
    "- 또한, 마치 메모이제이션 기법과 같은 효과를 낼 수 있어 연산속도에서 이점이 있을 수 있다 생각됩니다."
   ]
  }
 ],
 "metadata": {
  "interpreter": {
   "hash": "2f54893dfe29031941d4e4efbe22ab9f1cf7a98c658d6cb739a3c976ef21cf45"
  },
  "kernelspec": {
   "display_name": "Python 3.7.9 64-bit ('jk': conda)",
   "language": "python",
   "name": "python3"
  },
  "language_info": {
   "codemirror_mode": {
    "name": "ipython",
    "version": 3
   },
   "file_extension": ".py",
   "mimetype": "text/x-python",
   "name": "python",
   "nbconvert_exporter": "python",
   "pygments_lexer": "ipython3",
   "version": "3.7.9"
  },
  "orig_nbformat": 4
 },
 "nbformat": 4,
 "nbformat_minor": 2
}
